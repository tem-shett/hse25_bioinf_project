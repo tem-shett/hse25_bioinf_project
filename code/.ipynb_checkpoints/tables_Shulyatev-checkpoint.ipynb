{
 "cells": [
  {
   "cell_type": "markdown",
   "metadata": {
    "id": "8BPff-SntcBy"
   },
   "source": [
    "# Анализ"
   ]
  },
  {
   "cell_type": "code",
   "execution_count": 3,
   "metadata": {
    "colab": {
     "base_uri": "https://localhost:8080/"
    },
    "id": "qGtJbl72wKdT",
    "outputId": "83932577-d36f-4142-eb03-cfddcb6b7810"
   },
   "outputs": [
    {
     "name": "stdout",
     "output_type": "stream",
     "text": [
      "--2025-06-18 18:35:34--  https://ftp.ncbi.nlm.nih.gov/genomes/all/GCA/902/829/305/GCA_902829305.4_PGI_SPEXI_v6/GCA_902829305.4_PGI_SPEXI_v6_genomic.gff.gz\n",
      "Resolving ftp.ncbi.nlm.nih.gov (ftp.ncbi.nlm.nih.gov)... 130.14.250.7, 130.14.250.13, 130.14.250.12, ...\n",
      "Connecting to ftp.ncbi.nlm.nih.gov (ftp.ncbi.nlm.nih.gov)|130.14.250.7|:443... connected.\n",
      "HTTP request sent, awaiting response... 200 OK\n",
      "Length: 4243215 (4,0M) [application/x-gzip]\n",
      "Saving to: ‘GCA_902829305.4_PGI_SPEXI_v6_genomic.gff.gz’\n",
      "\n",
      "GCA_902829305.4_PGI 100%[===================>]   4,05M   943KB/s    in 5,6s    \n",
      "\n",
      "2025-06-18 18:35:41 (742 KB/s) - ‘GCA_902829305.4_PGI_SPEXI_v6_genomic.gff.gz’ saved [4243215/4243215]\n",
      "\n",
      "gzip: invalid option -- 'y'\n",
      "Try `gzip --help' for more information.\n"
     ]
    }
   ],
   "source": [
    "!wget https://ftp.ncbi.nlm.nih.gov/genomes/all/GCA/902/829/305/GCA_902829305.4_PGI_SPEXI_v6/GCA_902829305.4_PGI_SPEXI_v6_genomic.gff.gz\n",
    "!mv GCA_902829305.4_PGI_SPEXI_v6_genomic.gff.gz genomic.gff.gz\n",
    "!gunzip genomic.gff.gz"
   ]
  },
  {
   "cell_type": "code",
   "execution_count": 4,
   "metadata": {
    "colab": {
     "base_uri": "https://localhost:8080/"
    },
    "id": "hXt5zF8KweBG",
    "outputId": "b9ca1db7-7f37-4552-b126-84c78ae85590"
   },
   "outputs": [
    {
     "name": "stdout",
     "output_type": "stream",
     "text": [
      "##gff-version 3\n",
      "#!gff-spec-version 1.21\n",
      "#!processor NCBI annotwriter\n",
      "#!genome-build PGI_SPEXI_v6\n",
      "#!genome-build-accession NCBI_Assembly:GCA_902829305.4\n",
      "##sequence-region LR824602.2 1 19549462\n",
      "##species https://www.ncbi.nlm.nih.gov/Taxonomy/Browser/wwwtax.cgi?id=7107\n",
      "LR824602.2\tEMBL\tregion\t1\t19549462\t.\t+\t.\tID=LR824602.2:1..19549462;Dbxref=taxon:7107;Name=1;chromosome=1;gbkey=Src;mol_type=genomic DNA\n",
      "LR824602.2\tEMBL\tgene\t433449\t435904\t.\t+\t.\tID=gene-SPEXI_LOCUS1;Name=SPEXI_LOCUS1;gbkey=Gene;gene_biotype=protein_coding;locus_tag=SPEXI_LOCUS1\n",
      "LR824602.2\tEMBL\tmRNA\t433449\t435904\t.\t+\t.\tID=rna-SPEXI_LOCUS1;Parent=gene-SPEXI_LOCUS1;Note=ID:SPEXI_01T000001%3B~source:Liftoff;gbkey=mRNA;locus_tag=SPEXI_LOCUS1;standard_name=SPEXI_01T000001\n"
     ]
    }
   ],
   "source": [
    "!head genomic.gff"
   ]
  },
  {
   "cell_type": "code",
   "execution_count": 5,
   "metadata": {
    "colab": {
     "base_uri": "https://localhost:8080/",
     "height": 49,
     "referenced_widgets": [
      "5cd6bb05b6a14398ab45dde7c7b5efd4",
      "1741fcb7034e4f8482c0ff9307403b36",
      "330631d29b1a416bb67eb3b2230049f5",
      "db6306269ea84d9ab1704eea8f726fbf",
      "2053aff507714b51b3f185271b8ff590",
      "2850a465ba924f88bbecf6d50630bd7c",
      "c6b1579c1efe4fa9ad29e6c53f17174b",
      "81412fcc883f4512bc262283aff084d0",
      "68aff471076740999ba373815248a7a8",
      "d2a929341817409eabac94a0e2a5e014",
      "285a721af9f64636a8c1b3ea00e83891"
     ]
    },
    "id": "OBzPgTUdwjXr",
    "outputId": "5985634b-d739-4d7f-bafb-14307561e5da"
   },
   "outputs": [
    {
     "data": {
      "application/vnd.jupyter.widget-view+json": {
       "model_id": "6ba2945373264fafa04873f6a991b454",
       "version_major": 2,
       "version_minor": 0
      },
      "text/plain": [
       "  0%|          | 0/365109 [00:00<?, ?it/s]"
      ]
     },
     "metadata": {},
     "output_type": "display_data"
    }
   ],
   "source": [
    "from tqdm.auto import tqdm\n",
    "\n",
    "feats = ['mRNA', 'CDS', 'gene', 'exon']\n",
    "files = {}\n",
    "for feat in feats:\n",
    "  files[feat] = open(f'{feat}.bed', 'w')\n",
    "\n",
    "\n",
    "with open('genomic.gff', 'r') as genomic:\n",
    "    for line in tqdm(genomic.readlines()):\n",
    "        if line.startswith('#'):\n",
    "            continue\n",
    "        scaf, src, feat, start, end, _, strand = line.split()[:7]\n",
    "        if feat not in feats:\n",
    "            continue\n",
    "        files[feat].write(f'{scaf}\\t{start}\\t{end}\\t\\t\\t{strand}\\n')\n",
    "\n",
    "for f in files.values():\n",
    "    f.close()"
   ]
  },
  {
   "cell_type": "code",
   "execution_count": 9,
   "metadata": {
    "id": "G6QnrtgHxmOv"
   },
   "outputs": [],
   "source": [
    "!bedtools subtract -a gene.bed -b exon.bed > intron.bed"
   ]
  },
  {
   "cell_type": "code",
   "execution_count": 11,
   "metadata": {
    "colab": {
     "base_uri": "https://localhost:8080/"
    },
    "id": "wpJ8qcs1yUix",
    "outputId": "d6d1aa03-7730-4443-e9e5-9edc52f87840"
   },
   "outputs": [
    {
     "name": "stdout",
     "output_type": "stream",
     "text": [
      "Defaulting to user installation because normal site-packages is not writeable\n",
      "Requirement already satisfied: biopython in /home/tem_shett/.local/lib/python3.10/site-packages (1.83)\n",
      "Requirement already satisfied: numpy in /home/tem_shett/.local/lib/python3.10/site-packages (from biopython) (1.26.4)\n",
      "\n",
      "\u001b[1m[\u001b[0m\u001b[34;49mnotice\u001b[0m\u001b[1;39;49m]\u001b[0m\u001b[39;49m A new release of pip is available: \u001b[0m\u001b[31;49m25.0.1\u001b[0m\u001b[39;49m -> \u001b[0m\u001b[32;49m25.1.1\u001b[0m\n",
      "\u001b[1m[\u001b[0m\u001b[34;49mnotice\u001b[0m\u001b[1;39;49m]\u001b[0m\u001b[39;49m To update, run: \u001b[0m\u001b[32;49mpython3 -m pip install --upgrade pip\u001b[0m\n",
      "Note: you may need to restart the kernel to use updated packages.\n"
     ]
    }
   ],
   "source": [
    "%pip install biopython\n",
    "import numpy as np\n",
    "import pandas as pd\n",
    "from Bio import SeqIO\n",
    "from io import StringIO, BytesIO\n",
    "from tqdm import tqdm\n",
    "import pickle\n",
    "import scipy\n",
    "from scipy import ndimage"
   ]
  },
  {
   "cell_type": "code",
   "execution_count": 12,
   "metadata": {
    "id": "uIqL5QNUygQu"
   },
   "outputs": [],
   "source": [
    "with open('lengths.csv', 'w') as f:\n",
    "    for record in SeqIO.parse(\"genomic.fna\", \"fasta\"):\n",
    "        name, sequence = record.id, str(record.seq)\n",
    "        f.write(f'{name}\\t{len(sequence)}\\n')\n"
   ]
  },
  {
   "cell_type": "code",
   "execution_count": 13,
   "metadata": {
    "id": "I2Xasbnh3mxw"
   },
   "outputs": [],
   "source": [
    "!bedtools flank -l 1000 -r 0 -i gene.bed -g lengths.csv -s > upstream.bed"
   ]
  },
  {
   "cell_type": "code",
   "execution_count": 14,
   "metadata": {
    "id": "JL2Dqhsv4Tmn"
   },
   "outputs": [],
   "source": [
    "!bedtools flank -r 200 -l 0 -i gene.bed -g lengths.csv -s > downstream.bed"
   ]
  },
  {
   "cell_type": "code",
   "execution_count": 15,
   "metadata": {
    "id": "1qsVlpl846HI"
   },
   "outputs": [],
   "source": [
    "!bedtools complement -i gene.bed -g lengths.csv > intergenic.bed"
   ]
  },
  {
   "cell_type": "markdown",
   "metadata": {
    "id": "TSW-UNSOJ2Yl"
   },
   "source": [
    "# Первая таблица"
   ]
  },
  {
   "cell_type": "code",
   "execution_count": 16,
   "metadata": {
    "id": "ENtTcVJKER-t"
   },
   "outputs": [],
   "source": [
    "algos = ['quadruplex', 'zhunt', 'zdnabert']\n",
    "locs = ['exon', 'intron', 'upstream', 'downstream', 'intergenic']\n",
    "counts = pd.DataFrame(columns=algos, index=locs)\n",
    "ratios = pd.DataFrame(columns=algos, index=locs)\n",
    "\n",
    "all_counts = {}\n",
    "for a in algos:\n",
    "  with open(f'{a}.bed') as f:\n",
    "    all_counts[a] = len(f.readlines())\n",
    "\n",
    "for l in locs:\n",
    "    for a in algos:\n",
    "        !bedtools intersect -b {l}.bed -a {a}.bed -wa | uniq > tmp.bed\n",
    "        with open('tmp.bed') as f:\n",
    "          cnt = len(f.readlines())\n",
    "\n",
    "        counts.loc[l, a] = cnt\n",
    "        ratios.loc[l, a] = cnt / all_counts[a]"
   ]
  },
  {
   "cell_type": "code",
   "execution_count": 17,
   "metadata": {
    "colab": {
     "base_uri": "https://localhost:8080/",
     "height": 206
    },
    "id": "uo5j-WWPF_h7",
    "outputId": "fe1d531d-5caa-4754-c778-8d7040512163"
   },
   "outputs": [
    {
     "data": {
      "text/html": [
       "<div>\n",
       "<style scoped>\n",
       "    .dataframe tbody tr th:only-of-type {\n",
       "        vertical-align: middle;\n",
       "    }\n",
       "\n",
       "    .dataframe tbody tr th {\n",
       "        vertical-align: top;\n",
       "    }\n",
       "\n",
       "    .dataframe thead th {\n",
       "        text-align: right;\n",
       "    }\n",
       "</style>\n",
       "<table border=\"1\" class=\"dataframe\">\n",
       "  <thead>\n",
       "    <tr style=\"text-align: right;\">\n",
       "      <th></th>\n",
       "      <th>quadruplex</th>\n",
       "      <th>zhunt</th>\n",
       "      <th>zdnabert</th>\n",
       "    </tr>\n",
       "  </thead>\n",
       "  <tbody>\n",
       "    <tr>\n",
       "      <th>exon</th>\n",
       "      <td>1435</td>\n",
       "      <td>436798</td>\n",
       "      <td>19434</td>\n",
       "    </tr>\n",
       "    <tr>\n",
       "      <th>intron</th>\n",
       "      <td>11467</td>\n",
       "      <td>803175</td>\n",
       "      <td>23887</td>\n",
       "    </tr>\n",
       "    <tr>\n",
       "      <th>promoters</th>\n",
       "      <td>720</td>\n",
       "      <td>72684</td>\n",
       "      <td>2642</td>\n",
       "    </tr>\n",
       "    <tr>\n",
       "      <th>downstream</th>\n",
       "      <td>132</td>\n",
       "      <td>9528</td>\n",
       "      <td>426</td>\n",
       "    </tr>\n",
       "    <tr>\n",
       "      <th>intergenic</th>\n",
       "      <td>20043</td>\n",
       "      <td>511389</td>\n",
       "      <td>53311</td>\n",
       "    </tr>\n",
       "  </tbody>\n",
       "</table>\n",
       "</div>"
      ],
      "text/plain": [
       "           quadruplex  zhunt zdnabert\n",
       "exon             1435   436798    19434\n",
       "intron          11467  803175    23887\n",
       "promoters          720    72684     2642\n",
       "downstream        132    9528      426\n",
       "intergenic      20043  511389    53311"
      ]
     },
     "execution_count": 17,
     "metadata": {},
     "output_type": "execute_result"
    }
   ],
   "source": [
    "counts"
   ]
  },
  {
   "cell_type": "code",
   "execution_count": 18,
   "metadata": {
    "colab": {
     "base_uri": "https://localhost:8080/",
     "height": 206
    },
    "id": "1zvwtJGtGAhJ",
    "outputId": "57beb545-bd02-45c6-ef88-3d9afca73b37"
   },
   "outputs": [
    {
     "data": {
      "text/html": [
       "<div>\n",
       "<style scoped>\n",
       "    .dataframe tbody tr th:only-of-type {\n",
       "        vertical-align: middle;\n",
       "    }\n",
       "\n",
       "    .dataframe tbody tr th {\n",
       "        vertical-align: top;\n",
       "    }\n",
       "\n",
       "    .dataframe thead th {\n",
       "        text-align: right;\n",
       "    }\n",
       "</style>\n",
       "<table border=\"1\" class=\"dataframe\">\n",
       "  <thead>\n",
       "    <tr style=\"text-align: right;\">\n",
       "      <th></th>\n",
       "      <th>quadruplex</th>\n",
       "      <th>zhunt</th>\n",
       "      <th>zdnabert</th>\n",
       "    </tr>\n",
       "  </thead>\n",
       "  <tbody>\n",
       "    <tr>\n",
       "      <th>exon</th>\n",
       "      <td>0.043644</td>\n",
       "      <td>0.23822</td>\n",
       "      <td>0.20237</td>\n",
       "    </tr>\n",
       "    <tr>\n",
       "      <th>intron</th>\n",
       "      <td>0.348753</td>\n",
       "      <td>0.43804</td>\n",
       "      <td>0.24874</td>\n",
       "    </tr>\n",
       "    <tr>\n",
       "      <th>promoters</th>\n",
       "      <td>0.021898</td>\n",
       "      <td>0.03964</td>\n",
       "      <td>0.027512</td>\n",
       "    </tr>\n",
       "    <tr>\n",
       "      <th>downstream</th>\n",
       "      <td>0.004015</td>\n",
       "      <td>0.0052</td>\n",
       "      <td>0.004436</td>\n",
       "    </tr>\n",
       "    <tr>\n",
       "      <th>intergenic</th>\n",
       "      <td>0.60958</td>\n",
       "      <td>0.2789</td>\n",
       "      <td>0.555138</td>\n",
       "    </tr>\n",
       "  </tbody>\n",
       "</table>\n",
       "</div>"
      ],
      "text/plain": [
       "           quadruplex     zhunt  zdnabert\n",
       "exon         0.043644  0.23822   0.20237\n",
       "intron       0.348753  0.43804   0.24874\n",
       "promoters     0.021898  0.03964  0.027512\n",
       "downstream   0.004015  0.0052  0.004436\n",
       "intergenic    0.60958  0.2789  0.555138"
      ]
     },
     "execution_count": 18,
     "metadata": {},
     "output_type": "execute_result"
    }
   ],
   "source": [
    "ratios"
   ]
  },
  {
   "cell_type": "markdown",
   "metadata": {
    "id": "-TELP9mLJ4rP"
   },
   "source": [
    "# Вторая таблица"
   ]
  },
  {
   "cell_type": "code",
   "execution_count": 19,
   "metadata": {
    "id": "LqCg-rz1JKzl"
   },
   "outputs": [],
   "source": [
    "counts = pd.DataFrame(columns=algos, index=locs)\n",
    "ratios = pd.DataFrame(columns=algos, index=locs)\n",
    "\n",
    "all_counts = {}\n",
    "for l in locs:\n",
    "  with open(f'{l}.bed') as f:\n",
    "    all_counts[l] = len(f.readlines())\n",
    "\n",
    "for l in locs:\n",
    "    for a in algos:\n",
    "        !bedtools intersect -a {l}.bed -b {a}.bed -wa | uniq > tmp.bed\n",
    "        with open('tmp.bed') as f:\n",
    "          cnt = len(f.readlines())\n",
    "\n",
    "        counts.loc[l, a] = cnt\n",
    "        ratios.loc[l, a] = cnt / all_counts[l]"
   ]
  },
  {
   "cell_type": "code",
   "execution_count": 20,
   "metadata": {
    "colab": {
     "base_uri": "https://localhost:8080/",
     "height": 206
    },
    "id": "ya751jvy5fSI",
    "outputId": "025b5004-a8be-4bf8-c952-5070aa452eb6"
   },
   "outputs": [
    {
     "data": {
      "text/html": [
       "<div>\n",
       "<style scoped>\n",
       "    .dataframe tbody tr th:only-of-type {\n",
       "        vertical-align: middle;\n",
       "    }\n",
       "\n",
       "    .dataframe tbody tr th {\n",
       "        vertical-align: top;\n",
       "    }\n",
       "\n",
       "    .dataframe thead th {\n",
       "        text-align: right;\n",
       "    }\n",
       "</style>\n",
       "<table border=\"1\" class=\"dataframe\">\n",
       "  <thead>\n",
       "    <tr style=\"text-align: right;\">\n",
       "      <th></th>\n",
       "      <th>quadruplex</th>\n",
       "      <th>zhunt</th>\n",
       "      <th>zdnabert</th>\n",
       "    </tr>\n",
       "  </thead>\n",
       "  <tbody>\n",
       "    <tr>\n",
       "      <th>exon</th>\n",
       "      <td>1900</td>\n",
       "      <td>18978</td>\n",
       "      <td>22401</td>\n",
       "    </tr>\n",
       "    <tr>\n",
       "      <th>intron</th>\n",
       "      <td>8233</td>\n",
       "      <td>17543</td>\n",
       "      <td>10625</td>\n",
       "    </tr>\n",
       "    <tr>\n",
       "      <th>promoters</th>\n",
       "      <td>712</td>\n",
       "      <td>3704</td>\n",
       "      <td>1946</td>\n",
       "    </tr>\n",
       "    <tr>\n",
       "      <th>downstream</th>\n",
       "      <td>131</td>\n",
       "      <td>877</td>\n",
       "      <td>358</td>\n",
       "    </tr>\n",
       "    <tr>\n",
       "      <th>intergenic</th>\n",
       "      <td>4326</td>\n",
       "      <td>6510</td>\n",
       "      <td>5860</td>\n",
       "    </tr>\n",
       "  </tbody>\n",
       "</table>\n",
       "</div>"
      ],
      "text/plain": [
       "           quadruplex zhunt zdnabert\n",
       "exon             1900   18978    22401\n",
       "intron           8233   17543    10625\n",
       "promoters          712    3704     1946\n",
       "downstream        131    877      358\n",
       "intergenic       4326   6510     5860"
      ]
     },
     "execution_count": 20,
     "metadata": {},
     "output_type": "execute_result"
    }
   ],
   "source": [
    "counts"
   ]
  },
  {
   "cell_type": "code",
   "execution_count": 21,
   "metadata": {
    "colab": {
     "base_uri": "https://localhost:8080/",
     "height": 206
    },
    "id": "NwrsaGn6J6-W",
    "outputId": "065060f7-8f35-4cc7-84ea-39cf84c40dea"
   },
   "outputs": [
    {
     "data": {
      "text/html": [
       "<div>\n",
       "<style scoped>\n",
       "    .dataframe tbody tr th:only-of-type {\n",
       "        vertical-align: middle;\n",
       "    }\n",
       "\n",
       "    .dataframe tbody tr th {\n",
       "        vertical-align: top;\n",
       "    }\n",
       "\n",
       "    .dataframe thead th {\n",
       "        text-align: right;\n",
       "    }\n",
       "</style>\n",
       "<table border=\"1\" class=\"dataframe\">\n",
       "  <thead>\n",
       "    <tr style=\"text-align: right;\">\n",
       "      <th></th>\n",
       "      <th>quadruplex</th>\n",
       "      <th>zhunt</th>\n",
       "      <th>zdnabert</th>\n",
       "    </tr>\n",
       "  </thead>\n",
       "  <tbody>\n",
       "    <tr>\n",
       "      <th>exon</th>\n",
       "      <td>0.009038</td>\n",
       "      <td>0.102242</td>\n",
       "      <td>0.106556</td>\n",
       "    </tr>\n",
       "    <tr>\n",
       "      <th>intron</th>\n",
       "      <td>0.094726</td>\n",
       "      <td>0.31573</td>\n",
       "      <td>0.122247</td>\n",
       "    </tr>\n",
       "    <tr>\n",
       "      <th>promoters</th>\n",
       "      <td>0.054761</td>\n",
       "      <td>0.33781</td>\n",
       "      <td>0.149669</td>\n",
       "    </tr>\n",
       "    <tr>\n",
       "      <th>downstream</th>\n",
       "      <td>0.010075</td>\n",
       "      <td>0.11092</td>\n",
       "      <td>0.027534</td>\n",
       "    </tr>\n",
       "    <tr>\n",
       "      <th>intergenic</th>\n",
       "      <td>0.35999</td>\n",
       "      <td>0.470152</td>\n",
       "      <td>0.487643</td>\n",
       "    </tr>\n",
       "  </tbody>\n",
       "</table>\n",
       "</div>"
      ],
      "text/plain": [
       "           quadruplex     zhunt  zdnabert\n",
       "exon         0.009038  0.102242  0.106556\n",
       "intron       0.094726  0.31573  0.122247\n",
       "promoters     0.054761  0.33781  0.149669\n",
       "downstream   0.010075  0.11092  0.027534\n",
       "intergenic    0.35999  0.470152  0.487643"
      ]
     },
     "execution_count": 21,
     "metadata": {},
     "output_type": "execute_result"
    }
   ],
   "source": [
    "ratios"
   ]
  },
  {
   "cell_type": "code",
   "execution_count": null,
   "metadata": {
    "id": "iLYUckzjJ7jj"
   },
   "outputs": [],
   "source": []
  }
 ],
 "metadata": {
  "colab": {
   "provenance": []
  },
  "kernelspec": {
   "display_name": "Python 3 (ipykernel)",
   "language": "python",
   "name": "python3"
  },
  "language_info": {
   "codemirror_mode": {
    "name": "ipython",
    "version": 3
   },
   "file_extension": ".py",
   "mimetype": "text/x-python",
   "name": "python",
   "nbconvert_exporter": "python",
   "pygments_lexer": "ipython3",
   "version": "3.10.12"
  },
  "widgets": {
   "application/vnd.jupyter.widget-state+json": {
    "1741fcb7034e4f8482c0ff9307403b36": {
     "model_module": "@jupyter-widgets/controls",
     "model_module_version": "1.5.0",
     "model_name": "HTMLModel",
     "state": {
      "_dom_classes": [],
      "_model_module": "@jupyter-widgets/controls",
      "_model_module_version": "1.5.0",
      "_model_name": "HTMLModel",
      "_view_count": null,
      "_view_module": "@jupyter-widgets/controls",
      "_view_module_version": "1.5.0",
      "_view_name": "HTMLView",
      "description": "",
      "description_tooltip": null,
      "layout": "IPY_MODEL_2850a465ba924f88bbecf6d50630bd7c",
      "placeholder": "​",
      "style": "IPY_MODEL_c6b1579c1efe4fa9ad29e6c53f17174b",
      "value": "100%"
     }
    },
    "2053aff507714b51b3f185271b8ff590": {
     "model_module": "@jupyter-widgets/base",
     "model_module_version": "1.2.0",
     "model_name": "LayoutModel",
     "state": {
      "_model_module": "@jupyter-widgets/base",
      "_model_module_version": "1.2.0",
      "_model_name": "LayoutModel",
      "_view_count": null,
      "_view_module": "@jupyter-widgets/base",
      "_view_module_version": "1.2.0",
      "_view_name": "LayoutView",
      "align_content": null,
      "align_items": null,
      "align_self": null,
      "border": null,
      "bottom": null,
      "display": null,
      "flex": null,
      "flex_flow": null,
      "grid_area": null,
      "grid_auto_columns": null,
      "grid_auto_flow": null,
      "grid_auto_rows": null,
      "grid_column": null,
      "grid_gap": null,
      "grid_row": null,
      "grid_template_areas": null,
      "grid_template_columns": null,
      "grid_template_rows": null,
      "height": null,
      "justify_content": null,
      "justify_items": null,
      "left": null,
      "margin": null,
      "max_height": null,
      "max_width": null,
      "min_height": null,
      "min_width": null,
      "object_fit": null,
      "object_position": null,
      "order": null,
      "overflow": null,
      "overflow_x": null,
      "overflow_y": null,
      "padding": null,
      "right": null,
      "top": null,
      "visibility": null,
      "width": null
     }
    },
    "2850a465ba924f88bbecf6d50630bd7c": {
     "model_module": "@jupyter-widgets/base",
     "model_module_version": "1.2.0",
     "model_name": "LayoutModel",
     "state": {
      "_model_module": "@jupyter-widgets/base",
      "_model_module_version": "1.2.0",
      "_model_name": "LayoutModel",
      "_view_count": null,
      "_view_module": "@jupyter-widgets/base",
      "_view_module_version": "1.2.0",
      "_view_name": "LayoutView",
      "align_content": null,
      "align_items": null,
      "align_self": null,
      "border": null,
      "bottom": null,
      "display": null,
      "flex": null,
      "flex_flow": null,
      "grid_area": null,
      "grid_auto_columns": null,
      "grid_auto_flow": null,
      "grid_auto_rows": null,
      "grid_column": null,
      "grid_gap": null,
      "grid_row": null,
      "grid_template_areas": null,
      "grid_template_columns": null,
      "grid_template_rows": null,
      "height": null,
      "justify_content": null,
      "justify_items": null,
      "left": null,
      "margin": null,
      "max_height": null,
      "max_width": null,
      "min_height": null,
      "min_width": null,
      "object_fit": null,
      "object_position": null,
      "order": null,
      "overflow": null,
      "overflow_x": null,
      "overflow_y": null,
      "padding": null,
      "right": null,
      "top": null,
      "visibility": null,
      "width": null
     }
    },
    "285a721af9f64636a8c1b3ea00e83891": {
     "model_module": "@jupyter-widgets/controls",
     "model_module_version": "1.5.0",
     "model_name": "DescriptionStyleModel",
     "state": {
      "_model_module": "@jupyter-widgets/controls",
      "_model_module_version": "1.5.0",
      "_model_name": "DescriptionStyleModel",
      "_view_count": null,
      "_view_module": "@jupyter-widgets/base",
      "_view_module_version": "1.2.0",
      "_view_name": "StyleView",
      "description_width": ""
     }
    },
    "330631d29b1a416bb67eb3b2230049f5": {
     "model_module": "@jupyter-widgets/controls",
     "model_module_version": "1.5.0",
     "model_name": "FloatProgressModel",
     "state": {
      "_dom_classes": [],
      "_model_module": "@jupyter-widgets/controls",
      "_model_module_version": "1.5.0",
      "_model_name": "FloatProgressModel",
      "_view_count": null,
      "_view_module": "@jupyter-widgets/controls",
      "_view_module_version": "1.5.0",
      "_view_name": "ProgressView",
      "bar_style": "success",
      "description": "",
      "description_tooltip": null,
      "layout": "IPY_MODEL_81412fcc883f4512bc262283aff084d0",
      "max": 742310,
      "min": 0,
      "orientation": "horizontal",
      "style": "IPY_MODEL_68aff471076740999ba373815248a7a8",
      "value": 742310
     }
    },
    "5cd6bb05b6a14398ab45dde7c7b5efd4": {
     "model_module": "@jupyter-widgets/controls",
     "model_module_version": "1.5.0",
     "model_name": "HBoxModel",
     "state": {
      "_dom_classes": [],
      "_model_module": "@jupyter-widgets/controls",
      "_model_module_version": "1.5.0",
      "_model_name": "HBoxModel",
      "_view_count": null,
      "_view_module": "@jupyter-widgets/controls",
      "_view_module_version": "1.5.0",
      "_view_name": "HBoxView",
      "box_style": "",
      "children": [
       "IPY_MODEL_1741fcb7034e4f8482c0ff9307403b36",
       "IPY_MODEL_330631d29b1a416bb67eb3b2230049f5",
       "IPY_MODEL_db6306269ea84d9ab1704eea8f726fbf"
      ],
      "layout": "IPY_MODEL_2053aff507714b51b3f185271b8ff590"
     }
    },
    "68aff471076740999ba373815248a7a8": {
     "model_module": "@jupyter-widgets/controls",
     "model_module_version": "1.5.0",
     "model_name": "ProgressStyleModel",
     "state": {
      "_model_module": "@jupyter-widgets/controls",
      "_model_module_version": "1.5.0",
      "_model_name": "ProgressStyleModel",
      "_view_count": null,
      "_view_module": "@jupyter-widgets/base",
      "_view_module_version": "1.2.0",
      "_view_name": "StyleView",
      "bar_color": null,
      "description_width": ""
     }
    },
    "81412fcc883f4512bc262283aff084d0": {
     "model_module": "@jupyter-widgets/base",
     "model_module_version": "1.2.0",
     "model_name": "LayoutModel",
     "state": {
      "_model_module": "@jupyter-widgets/base",
      "_model_module_version": "1.2.0",
      "_model_name": "LayoutModel",
      "_view_count": null,
      "_view_module": "@jupyter-widgets/base",
      "_view_module_version": "1.2.0",
      "_view_name": "LayoutView",
      "align_content": null,
      "align_items": null,
      "align_self": null,
      "border": null,
      "bottom": null,
      "display": null,
      "flex": null,
      "flex_flow": null,
      "grid_area": null,
      "grid_auto_columns": null,
      "grid_auto_flow": null,
      "grid_auto_rows": null,
      "grid_column": null,
      "grid_gap": null,
      "grid_row": null,
      "grid_template_areas": null,
      "grid_template_columns": null,
      "grid_template_rows": null,
      "height": null,
      "justify_content": null,
      "justify_items": null,
      "left": null,
      "margin": null,
      "max_height": null,
      "max_width": null,
      "min_height": null,
      "min_width": null,
      "object_fit": null,
      "object_position": null,
      "order": null,
      "overflow": null,
      "overflow_x": null,
      "overflow_y": null,
      "padding": null,
      "right": null,
      "top": null,
      "visibility": null,
      "width": null
     }
    },
    "c6b1579c1efe4fa9ad29e6c53f17174b": {
     "model_module": "@jupyter-widgets/controls",
     "model_module_version": "1.5.0",
     "model_name": "DescriptionStyleModel",
     "state": {
      "_model_module": "@jupyter-widgets/controls",
      "_model_module_version": "1.5.0",
      "_model_name": "DescriptionStyleModel",
      "_view_count": null,
      "_view_module": "@jupyter-widgets/base",
      "_view_module_version": "1.2.0",
      "_view_name": "StyleView",
      "description_width": ""
     }
    },
    "d2a929341817409eabac94a0e2a5e014": {
     "model_module": "@jupyter-widgets/base",
     "model_module_version": "1.2.0",
     "model_name": "LayoutModel",
     "state": {
      "_model_module": "@jupyter-widgets/base",
      "_model_module_version": "1.2.0",
      "_model_name": "LayoutModel",
      "_view_count": null,
      "_view_module": "@jupyter-widgets/base",
      "_view_module_version": "1.2.0",
      "_view_name": "LayoutView",
      "align_content": null,
      "align_items": null,
      "align_self": null,
      "border": null,
      "bottom": null,
      "display": null,
      "flex": null,
      "flex_flow": null,
      "grid_area": null,
      "grid_auto_columns": null,
      "grid_auto_flow": null,
      "grid_auto_rows": null,
      "grid_column": null,
      "grid_gap": null,
      "grid_row": null,
      "grid_template_areas": null,
      "grid_template_columns": null,
      "grid_template_rows": null,
      "height": null,
      "justify_content": null,
      "justify_items": null,
      "left": null,
      "margin": null,
      "max_height": null,
      "max_width": null,
      "min_height": null,
      "min_width": null,
      "object_fit": null,
      "object_position": null,
      "order": null,
      "overflow": null,
      "overflow_x": null,
      "overflow_y": null,
      "padding": null,
      "right": null,
      "top": null,
      "visibility": null,
      "width": null
     }
    },
    "db6306269ea84d9ab1704eea8f726fbf": {
     "model_module": "@jupyter-widgets/controls",
     "model_module_version": "1.5.0",
     "model_name": "HTMLModel",
     "state": {
      "_dom_classes": [],
      "_model_module": "@jupyter-widgets/controls",
      "_model_module_version": "1.5.0",
      "_model_name": "HTMLModel",
      "_view_count": null,
      "_view_module": "@jupyter-widgets/controls",
      "_view_module_version": "1.5.0",
      "_view_name": "HTMLView",
      "description": "",
      "description_tooltip": null,
      "layout": "IPY_MODEL_d2a929341817409eabac94a0e2a5e014",
      "placeholder": "​",
      "style": "IPY_MODEL_285a721af9f64636a8c1b3ea00e83891",
      "value": " 742310/742310 [00:01&lt;00:00, 724437.07it/s]"
     }
    }
   }
  }
 },
 "nbformat": 4,
 "nbformat_minor": 4
}
