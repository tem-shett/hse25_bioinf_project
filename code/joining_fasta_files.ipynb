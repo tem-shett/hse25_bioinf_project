{
 "cells": [
  {
   "cell_type": "code",
   "execution_count": 2,
   "id": "50d18c96-b818-4377-b1bb-29aac7bbfe99",
   "metadata": {},
   "outputs": [
    {
     "name": "stdout",
     "output_type": "stream",
     "text": [
      "mkdir: cannot create directory ‘allfaa’: File exists\n"
     ]
    }
   ],
   "source": [
    "!mkdir allfaa"
   ]
  },
  {
   "cell_type": "code",
   "execution_count": 33,
   "id": "f0dc9e7b-ef98-4d0e-8d5a-316f48981d7c",
   "metadata": {},
   "outputs": [],
   "source": [
    "import os\n",
    "\n",
    "directory = 'allfaa'\n",
    "\n",
    "ugu = dict()\n",
    "\n",
    "for root, dirs, files in os.walk(directory):\n",
    "    \n",
    "    for file in files:\n",
    "        file_path = os.path.join(root, file)\n",
    "        aboba = file[:file.find('_')] + '.fasta'\n",
    "        with open(file_path, 'r') as f:\n",
    "            kek = f.read()\n",
    "            if kek[1:].find('>') != -1:\n",
    "                kek = kek[0] + kek[1:kek[1:].find('>')]\n",
    "            assert(kek.count('>') == 1)\n",
    "\n",
    "        kek = kek.split('\\n')\n",
    "        kek[0]\n",
    "        \n",
    "        ugu[aboba] = ugu.get(aboba, '') + '\\n\\n' + '\\n'.join(kek)\n",
    "\n",
    "for key in ugu:\n",
    "    with open(os.path.join('allfaa_fixed', key), 'w') as f:\n",
    "        aboba = ugu[key]\n",
    "        aboba = aboba.split('\\n')\n",
    "        aboba = [el for el in aboba if len(el) > 0]\n",
    "        f.write('\\n'.join(aboba))"
   ]
  }
 ],
 "metadata": {
  "kernelspec": {
   "display_name": "Python 3 (ipykernel)",
   "language": "python",
   "name": "python3"
  },
  "language_info": {
   "codemirror_mode": {
    "name": "ipython",
    "version": 3
   },
   "file_extension": ".py",
   "mimetype": "text/x-python",
   "name": "python",
   "nbconvert_exporter": "python",
   "pygments_lexer": "ipython3",
   "version": "3.10.12"
  }
 },
 "nbformat": 4,
 "nbformat_minor": 5
}
