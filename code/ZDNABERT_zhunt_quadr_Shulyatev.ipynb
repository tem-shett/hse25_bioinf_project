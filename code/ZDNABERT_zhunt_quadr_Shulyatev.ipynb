{
 "cells": [
  {
   "cell_type": "code",
   "execution_count": 1,
   "metadata": {},
   "outputs": [],
   "source": [
    "# !wget https://ftp.ncbi.nlm.nih.gov/genomes/all/GCA/902/829/305/GCA_902829305.4_PGI_SPEXI_v6/GCA_902829305.4_PGI_SPEXI_v6_genomic.fna.gz\n",
    "# !mv GCA_902829305.4_PGI_SPEXI_v6_genomic.fna.gz genomic.fna.gz\n",
    "# !gunzip genomic.fna.gz"
   ]
  },
  {
   "cell_type": "markdown",
   "metadata": {
    "id": "20LkkxtRmp-6"
   },
   "source": [
    "# ZDNABERT"
   ]
  },
  {
   "cell_type": "markdown",
   "metadata": {
    "id": "Anloiuvum7_s"
   },
   "source": [
    "Взято из репозитория https://github.com/mitiau/Z-DNABERT/blob/main/ZDNA-prediction.ipynb"
   ]
  },
  {
   "cell_type": "markdown",
   "metadata": {
    "id": "f59Ujuujn___"
   },
   "source": [
    "## Install dependecies and define helper functions"
   ]
  },
  {
   "cell_type": "code",
   "execution_count": 2,
   "metadata": {
    "colab": {
     "base_uri": "https://localhost:8080/"
    },
    "id": "apiUcTpNTnlU",
    "outputId": "369a045d-5aac-431d-e2e4-ba432c612723"
   },
   "outputs": [
    {
     "name": "stdout",
     "output_type": "stream",
     "text": [
      "Defaulting to user installation because normal site-packages is not writeable\n",
      "Requirement already satisfied: transformers in /home/tem_shett/.local/lib/python3.10/site-packages (4.48.3)\n",
      "Requirement already satisfied: filelock in /home/tem_shett/.local/lib/python3.10/site-packages (from transformers) (3.16.1)\n",
      "Requirement already satisfied: huggingface-hub<1.0,>=0.24.0 in /home/tem_shett/.local/lib/python3.10/site-packages (from transformers) (0.25.2)\n",
      "Requirement already satisfied: numpy>=1.17 in /home/tem_shett/.local/lib/python3.10/site-packages (from transformers) (1.26.4)\n",
      "Requirement already satisfied: packaging>=20.0 in /home/tem_shett/.local/lib/python3.10/site-packages (from transformers) (24.2)\n",
      "Requirement already satisfied: pyyaml>=5.1 in /home/tem_shett/.local/lib/python3.10/site-packages (from transformers) (6.0.2)\n",
      "Requirement already satisfied: regex!=2019.12.17 in /home/tem_shett/.local/lib/python3.10/site-packages (from transformers) (2024.11.6)\n",
      "Requirement already satisfied: requests in /home/tem_shett/.local/lib/python3.10/site-packages (from transformers) (2.32.3)\n",
      "Requirement already satisfied: tokenizers<0.22,>=0.21 in /home/tem_shett/.local/lib/python3.10/site-packages (from transformers) (0.21.0)\n",
      "Requirement already satisfied: safetensors>=0.4.1 in /home/tem_shett/.local/lib/python3.10/site-packages (from transformers) (0.5.2)\n",
      "Requirement already satisfied: tqdm>=4.27 in /home/tem_shett/.local/lib/python3.10/site-packages (from transformers) (4.67.1)\n",
      "Requirement already satisfied: fsspec>=2023.5.0 in /home/tem_shett/.local/lib/python3.10/site-packages (from huggingface-hub<1.0,>=0.24.0->transformers) (2024.10.0)\n",
      "Requirement already satisfied: typing-extensions>=3.7.4.3 in /home/tem_shett/.local/lib/python3.10/site-packages (from huggingface-hub<1.0,>=0.24.0->transformers) (4.12.2)\n",
      "Requirement already satisfied: charset-normalizer<4,>=2 in /home/tem_shett/.local/lib/python3.10/site-packages (from requests->transformers) (3.3.2)\n",
      "Requirement already satisfied: idna<4,>=2.5 in /usr/lib/python3/dist-packages (from requests->transformers) (3.3)\n",
      "Requirement already satisfied: urllib3<3,>=1.21.1 in /home/tem_shett/.local/lib/python3.10/site-packages (from requests->transformers) (2.2.3)\n",
      "Requirement already satisfied: certifi>=2017.4.17 in /home/tem_shett/.local/lib/python3.10/site-packages (from requests->transformers) (2024.8.30)\n",
      "\n",
      "\u001b[1m[\u001b[0m\u001b[34;49mnotice\u001b[0m\u001b[1;39;49m]\u001b[0m\u001b[39;49m A new release of pip is available: \u001b[0m\u001b[31;49m25.0.1\u001b[0m\u001b[39;49m -> \u001b[0m\u001b[32;49m25.1.1\u001b[0m\n",
      "\u001b[1m[\u001b[0m\u001b[34;49mnotice\u001b[0m\u001b[1;39;49m]\u001b[0m\u001b[39;49m To update, run: \u001b[0m\u001b[32;49mpython3 -m pip install --upgrade pip\u001b[0m\n",
      "Note: you may need to restart the kernel to use updated packages.\n",
      "Defaulting to user installation because normal site-packages is not writeable\n",
      "Requirement already satisfied: biopython in /home/tem_shett/.local/lib/python3.10/site-packages (1.83)\n",
      "Requirement already satisfied: numpy in /home/tem_shett/.local/lib/python3.10/site-packages (from biopython) (1.26.4)\n",
      "\n",
      "\u001b[1m[\u001b[0m\u001b[34;49mnotice\u001b[0m\u001b[1;39;49m]\u001b[0m\u001b[39;49m A new release of pip is available: \u001b[0m\u001b[31;49m25.0.1\u001b[0m\u001b[39;49m -> \u001b[0m\u001b[32;49m25.1.1\u001b[0m\n",
      "\u001b[1m[\u001b[0m\u001b[34;49mnotice\u001b[0m\u001b[1;39;49m]\u001b[0m\u001b[39;49m To update, run: \u001b[0m\u001b[32;49mpython3 -m pip install --upgrade pip\u001b[0m\n",
      "Note: you may need to restart the kernel to use updated packages.\n"
     ]
    }
   ],
   "source": [
    "%pip install transformers\n",
    "%pip install biopython"
   ]
  },
  {
   "cell_type": "code",
   "execution_count": 3,
   "metadata": {
    "id": "Bsyfz4BrSxMN"
   },
   "outputs": [
    {
     "name": "stderr",
     "output_type": "stream",
     "text": [
      "2025-06-11 19:44:30.474930: I tensorflow/core/util/port.cc:153] oneDNN custom operations are on. You may see slightly different numerical results due to floating-point round-off errors from different computation orders. To turn them off, set the environment variable `TF_ENABLE_ONEDNN_OPTS=0`.\n",
      "2025-06-11 19:44:30.677022: E external/local_xla/xla/stream_executor/cuda/cuda_fft.cc:467] Unable to register cuFFT factory: Attempting to register factory for plugin cuFFT when one has already been registered\n",
      "WARNING: All log messages before absl::InitializeLog() is called are written to STDERR\n",
      "E0000 00:00:1749660270.749942    7031 cuda_dnn.cc:8579] Unable to register cuDNN factory: Attempting to register factory for plugin cuDNN when one has already been registered\n",
      "E0000 00:00:1749660270.769860    7031 cuda_blas.cc:1407] Unable to register cuBLAS factory: Attempting to register factory for plugin cuBLAS when one has already been registered\n",
      "W0000 00:00:1749660270.922309    7031 computation_placer.cc:177] computation placer already registered. Please check linkage and avoid linking the same target more than once.\n",
      "W0000 00:00:1749660270.922335    7031 computation_placer.cc:177] computation placer already registered. Please check linkage and avoid linking the same target more than once.\n",
      "W0000 00:00:1749660270.922337    7031 computation_placer.cc:177] computation placer already registered. Please check linkage and avoid linking the same target more than once.\n",
      "W0000 00:00:1749660270.922338    7031 computation_placer.cc:177] computation placer already registered. Please check linkage and avoid linking the same target more than once.\n",
      "2025-06-11 19:44:30.940083: I tensorflow/core/platform/cpu_feature_guard.cc:210] This TensorFlow binary is optimized to use available CPU instructions in performance-critical operations.\n",
      "To enable the following instructions: AVX2 AVX512F AVX512_VNNI FMA, in other operations, rebuild TensorFlow with the appropriate compiler flags.\n"
     ]
    }
   ],
   "source": [
    "import torch\n",
    "from torch import nn\n",
    "import transformers\n",
    "from transformers import BertTokenizer, BertForTokenClassification\n",
    "import numpy as np\n",
    "from Bio import SeqIO\n",
    "from io import StringIO, BytesIO\n",
    "# from google.colab import drive, files\n",
    "from tqdm import tqdm\n",
    "import pickle\n",
    "import scipy\n",
    "from scipy import ndimage"
   ]
  },
  {
   "cell_type": "code",
   "execution_count": 4,
   "metadata": {
    "id": "u7YfUQNAmp-8"
   },
   "outputs": [],
   "source": [
    "def seq2kmer(seq, k):\n",
    "    kmer = [seq[x:x+k] for x in range(len(seq)+1-k)]\n",
    "    return kmer\n",
    "\n",
    "def split_seq(seq, length = 512, pad = 16):\n",
    "    res = []\n",
    "    for st in range(0, len(seq), length - pad):\n",
    "        end = min(st+512, len(seq))\n",
    "        res.append(seq[st:end])\n",
    "    return res\n",
    "\n",
    "def stitch_np_seq(np_seqs, pad = 16):\n",
    "    res = np.array([])\n",
    "    for seq in np_seqs:\n",
    "        res = res[:-pad]\n",
    "        res = np.concatenate([res,seq])\n",
    "    return res\n",
    "\n",
    "# def stitch_np_seq(np_seqs, pad=16):\n",
    "#     total_len = sum(len(seq) for seq in np_seqs) - pad * (len(np_seqs) - 1)\n",
    "#     if total_len <= 0:\n",
    "#         return np.array([], dtype=np.float32)\n",
    "#     res = np.empty(total_len, dtype=np.float32)\n",
    "#     pos = 0\n",
    "#     for i, seq in enumerate(np_seqs):\n",
    "#         if i > 0:\n",
    "#             pos = max(0, pad)\n",
    "#         length = len(seq)\n",
    "#         res[pos:pos + length] = seq\n",
    "#         pos += length\n",
    "#     return res"
   ]
  },
  {
   "cell_type": "code",
   "execution_count": null,
   "metadata": {
    "id": "EKYGsZAhmp-8"
   },
   "outputs": [],
   "source": []
  },
  {
   "cell_type": "markdown",
   "metadata": {
    "id": "BhuIczgOmp-8"
   },
   "source": [
    "## Select model and parameters"
   ]
  },
  {
   "cell_type": "code",
   "execution_count": 5,
   "metadata": {
    "id": "CnjDI-aXmp-8"
   },
   "outputs": [],
   "source": [
    "model = 'HG kouzine' #@param [\"HG chipseq\", \"HG kouzine\", \"MM chipseq\", \"MM kouzine\"]\n",
    "model_confidence_threshold = 0.5 #@param {type:\"number\"}\n",
    "minimum_sequence_length = 10 #@param {type:\"integer\"}"
   ]
  },
  {
   "cell_type": "code",
   "execution_count": 6,
   "metadata": {
    "id": "_v3XoAummp-9"
   },
   "outputs": [],
   "source": [
    "if model == 'HG chipseq':\n",
    "    model_id = '1VAsp8I904y_J0PUhAQqpSlCn1IqfG0FB'\n",
    "elif model == 'HG kouzine':\n",
    "    model_id = '1dAeAt5Gu2cadwDhbc7OnenUgDLHlUvkx'\n",
    "elif model == 'MM curax':\n",
    "    model_id = '1W6GEgHNoitlB-xXJbLJ_jDW4BF35W1Sd'\n",
    "elif model == 'MM kouzine':\n",
    "    model_id = '1dXpQFmheClKXIEoqcZ7kgCwx6hzVCv3H'\n"
   ]
  },
  {
   "cell_type": "code",
   "execution_count": 7,
   "metadata": {
    "colab": {
     "base_uri": "https://localhost:8080/"
    },
    "id": "U7L4_uKymp-9",
    "outputId": "cc06961d-43a5-49f6-8559-8b15d1308276"
   },
   "outputs": [],
   "source": [
    "#!gdown $model_id\n",
    "# !gdown 10sF8Ywktd96HqAL0CwvlZZUUGj05CGk5\n",
    "# !gdown 16bT7HDv71aRwyh3gBUbKwign1mtyLD2d\n",
    "# !gdown 1EE9goZ2JRSD8UTx501q71lGCk-CK3kqG\n",
    "# !gdown 1gZZdtAoDnDiLQqjQfGyuwt268Pe5sXW0\n",
    "\n",
    "\n",
    "#!mkdir 6-new-12w-0\n",
    "#!mv pytorch_model.bin 6-new-12w-0/\n",
    "# !mv config.json 6-new-12w-0/\n",
    "# !mv special_tokens_map.json 6-new-12w-0/\n",
    "# !mv tokenizer_config.json 6-new-12w-0/\n",
    "# !mv vocab.txt 6-new-12w-0/"
   ]
  },
  {
   "cell_type": "code",
   "execution_count": 8,
   "metadata": {
    "id": "NePvH0a_mp-9"
   },
   "outputs": [
    {
     "data": {
      "text/plain": [
       "BertForTokenClassification(\n",
       "  (bert): BertModel(\n",
       "    (embeddings): BertEmbeddings(\n",
       "      (word_embeddings): Embedding(4101, 768, padding_idx=0)\n",
       "      (position_embeddings): Embedding(512, 768)\n",
       "      (token_type_embeddings): Embedding(2, 768)\n",
       "      (LayerNorm): LayerNorm((768,), eps=1e-12, elementwise_affine=True)\n",
       "      (dropout): Dropout(p=0.1, inplace=False)\n",
       "    )\n",
       "    (encoder): BertEncoder(\n",
       "      (layer): ModuleList(\n",
       "        (0-11): 12 x BertLayer(\n",
       "          (attention): BertAttention(\n",
       "            (self): BertSdpaSelfAttention(\n",
       "              (query): Linear(in_features=768, out_features=768, bias=True)\n",
       "              (key): Linear(in_features=768, out_features=768, bias=True)\n",
       "              (value): Linear(in_features=768, out_features=768, bias=True)\n",
       "              (dropout): Dropout(p=0.1, inplace=False)\n",
       "            )\n",
       "            (output): BertSelfOutput(\n",
       "              (dense): Linear(in_features=768, out_features=768, bias=True)\n",
       "              (LayerNorm): LayerNorm((768,), eps=1e-12, elementwise_affine=True)\n",
       "              (dropout): Dropout(p=0.1, inplace=False)\n",
       "            )\n",
       "          )\n",
       "          (intermediate): BertIntermediate(\n",
       "            (dense): Linear(in_features=768, out_features=3072, bias=True)\n",
       "            (intermediate_act_fn): GELUActivation()\n",
       "          )\n",
       "          (output): BertOutput(\n",
       "            (dense): Linear(in_features=3072, out_features=768, bias=True)\n",
       "            (LayerNorm): LayerNorm((768,), eps=1e-12, elementwise_affine=True)\n",
       "            (dropout): Dropout(p=0.1, inplace=False)\n",
       "          )\n",
       "        )\n",
       "      )\n",
       "    )\n",
       "  )\n",
       "  (dropout): Dropout(p=0.1, inplace=False)\n",
       "  (classifier): Linear(in_features=768, out_features=2, bias=True)\n",
       ")"
      ]
     },
     "execution_count": 8,
     "metadata": {},
     "output_type": "execute_result"
    }
   ],
   "source": [
    "tokenizer = BertTokenizer.from_pretrained('6-new-12w-0/')\n",
    "model = BertForTokenClassification.from_pretrained('6-new-12w-0/')\n",
    "model.cuda()"
   ]
  },
  {
   "cell_type": "code",
   "execution_count": null,
   "metadata": {
    "id": "O97r22smmp-9"
   },
   "outputs": [],
   "source": []
  },
  {
   "cell_type": "markdown",
   "metadata": {
    "id": "TAp3NQyaupxE"
   },
   "source": [
    "## Upload fasta files for prediction"
   ]
  },
  {
   "cell_type": "code",
   "execution_count": 9,
   "metadata": {
    "id": "Qqjy1jlUoBg1"
   },
   "outputs": [],
   "source": [
    "# uploaded = files.upload()\n",
    "# for fn in uploaded.keys():\n",
    "#   print('User uploaded file \"{name}\" with length {length} bytes'.format(\n",
    "#       name=fn, length=len(uploaded[fn])))"
   ]
  },
  {
   "cell_type": "code",
   "execution_count": 10,
   "metadata": {
    "colab": {
     "background_save": true
    },
    "id": "Y9fDNAVQn_ap"
   },
   "outputs": [],
   "source": [
    "with open('genomic.fna', 'rb') as f:\n",
    "  uploaded = {'genomic': f.read()}"
   ]
  },
  {
   "cell_type": "markdown",
   "metadata": {
    "id": "vX5m7Tt_mp-9"
   },
   "source": [
    "## Predict and save raw outputs"
   ]
  },
  {
   "cell_type": "code",
   "execution_count": 11,
   "metadata": {
    "colab": {
     "base_uri": "https://localhost:8080/"
    },
    "id": "_1qjq3i-VCEz",
    "outputId": "1677e0c0-3b6d-4099-e8d7-7ca76deb3502"
   },
   "outputs": [
    {
     "name": "stdout",
     "output_type": "stream",
     "text": [
      "genomic\n",
      "LR824602.2\n"
     ]
    },
    {
     "name": "stderr",
     "output_type": "stream",
     "text": [
      "100%|█████████████████████████████████████| 39415/39415 [22:25<00:00, 29.29it/s]\n"
     ]
    },
    {
     "name": "stdout",
     "output_type": "stream",
     "text": [
      "LR824603.2\n"
     ]
    },
    {
     "name": "stderr",
     "output_type": "stream",
     "text": [
      "100%|█████████████████████████████████████| 34753/34753 [19:44<00:00, 29.34it/s]\n"
     ]
    },
    {
     "name": "stdout",
     "output_type": "stream",
     "text": [
      "LR824604.2\n"
     ]
    },
    {
     "name": "stderr",
     "output_type": "stream",
     "text": [
      "100%|█████████████████████████████████████| 33450/33450 [19:03<00:00, 29.26it/s]\n"
     ]
    },
    {
     "name": "stdout",
     "output_type": "stream",
     "text": [
      "LR824605.2\n"
     ]
    },
    {
     "name": "stderr",
     "output_type": "stream",
     "text": [
      "100%|█████████████████████████████████████| 32743/32743 [18:38<00:00, 29.27it/s]\n"
     ]
    },
    {
     "name": "stdout",
     "output_type": "stream",
     "text": [
      "LR824606.2\n"
     ]
    },
    {
     "name": "stderr",
     "output_type": "stream",
     "text": [
      "100%|█████████████████████████████████████| 32518/32518 [18:32<00:00, 29.24it/s]\n"
     ]
    },
    {
     "name": "stdout",
     "output_type": "stream",
     "text": [
      "LR824607.2\n"
     ]
    },
    {
     "name": "stderr",
     "output_type": "stream",
     "text": [
      "100%|█████████████████████████████████████| 32448/32448 [18:28<00:00, 29.28it/s]\n"
     ]
    },
    {
     "name": "stdout",
     "output_type": "stream",
     "text": [
      "LR824608.2\n"
     ]
    },
    {
     "name": "stderr",
     "output_type": "stream",
     "text": [
      "100%|█████████████████████████████████████| 31914/31914 [18:22<00:00, 28.96it/s]\n"
     ]
    },
    {
     "name": "stdout",
     "output_type": "stream",
     "text": [
      "LR824609.2\n"
     ]
    },
    {
     "name": "stderr",
     "output_type": "stream",
     "text": [
      "100%|█████████████████████████████████████| 31904/31904 [18:29<00:00, 28.76it/s]\n"
     ]
    },
    {
     "name": "stdout",
     "output_type": "stream",
     "text": [
      "LR824610.2\n"
     ]
    },
    {
     "name": "stderr",
     "output_type": "stream",
     "text": [
      "100%|█████████████████████████████████████| 31841/31841 [18:26<00:00, 28.78it/s]\n"
     ]
    },
    {
     "name": "stdout",
     "output_type": "stream",
     "text": [
      "LR824611.2\n"
     ]
    },
    {
     "name": "stderr",
     "output_type": "stream",
     "text": [
      "100%|█████████████████████████████████████| 31537/31537 [18:14<00:00, 28.81it/s]\n"
     ]
    },
    {
     "name": "stdout",
     "output_type": "stream",
     "text": [
      "LR824612.2\n"
     ]
    },
    {
     "name": "stderr",
     "output_type": "stream",
     "text": [
      "100%|█████████████████████████████████████| 31105/31105 [17:37<00:00, 29.42it/s]\n"
     ]
    },
    {
     "name": "stdout",
     "output_type": "stream",
     "text": [
      "LR824613.2\n"
     ]
    },
    {
     "name": "stderr",
     "output_type": "stream",
     "text": [
      "100%|█████████████████████████████████████| 30905/30905 [17:28<00:00, 29.48it/s]\n"
     ]
    },
    {
     "name": "stdout",
     "output_type": "stream",
     "text": [
      "LR824614.2\n"
     ]
    },
    {
     "name": "stderr",
     "output_type": "stream",
     "text": [
      "100%|█████████████████████████████████████| 30631/30631 [17:19<00:00, 29.46it/s]\n"
     ]
    },
    {
     "name": "stdout",
     "output_type": "stream",
     "text": [
      "LR824615.2\n"
     ]
    },
    {
     "name": "stderr",
     "output_type": "stream",
     "text": [
      "100%|█████████████████████████████████████| 30417/30417 [17:12<00:00, 29.46it/s]\n"
     ]
    },
    {
     "name": "stdout",
     "output_type": "stream",
     "text": [
      "LR824616.2\n"
     ]
    },
    {
     "name": "stderr",
     "output_type": "stream",
     "text": [
      "100%|█████████████████████████████████████| 30319/30319 [17:10<00:00, 29.41it/s]\n"
     ]
    },
    {
     "name": "stdout",
     "output_type": "stream",
     "text": [
      "LR824617.2\n"
     ]
    },
    {
     "name": "stderr",
     "output_type": "stream",
     "text": [
      "100%|█████████████████████████████████████| 29895/29895 [16:56<00:00, 29.42it/s]\n"
     ]
    },
    {
     "name": "stdout",
     "output_type": "stream",
     "text": [
      "LR824618.2\n"
     ]
    },
    {
     "name": "stderr",
     "output_type": "stream",
     "text": [
      "100%|█████████████████████████████████████| 29501/29501 [16:42<00:00, 29.43it/s]\n"
     ]
    },
    {
     "name": "stdout",
     "output_type": "stream",
     "text": [
      "LR824619.2\n"
     ]
    },
    {
     "name": "stderr",
     "output_type": "stream",
     "text": [
      "100%|█████████████████████████████████████| 29305/29305 [16:53<00:00, 28.93it/s]\n"
     ]
    },
    {
     "name": "stdout",
     "output_type": "stream",
     "text": [
      "LR824620.2\n"
     ]
    },
    {
     "name": "stderr",
     "output_type": "stream",
     "text": [
      "100%|█████████████████████████████████████| 28744/28744 [16:30<00:00, 29.01it/s]\n"
     ]
    },
    {
     "name": "stdout",
     "output_type": "stream",
     "text": [
      "LR824621.2\n"
     ]
    },
    {
     "name": "stderr",
     "output_type": "stream",
     "text": [
      "100%|█████████████████████████████████████| 28645/28645 [16:30<00:00, 28.93it/s]\n"
     ]
    },
    {
     "name": "stdout",
     "output_type": "stream",
     "text": [
      "LR824622.2\n"
     ]
    },
    {
     "name": "stderr",
     "output_type": "stream",
     "text": [
      "100%|█████████████████████████████████████| 28338/28338 [16:17<00:00, 28.98it/s]\n"
     ]
    },
    {
     "name": "stdout",
     "output_type": "stream",
     "text": [
      "LR824623.2\n"
     ]
    },
    {
     "name": "stderr",
     "output_type": "stream",
     "text": [
      "100%|█████████████████████████████████████| 26812/26812 [15:19<00:00, 29.15it/s]\n"
     ]
    },
    {
     "name": "stdout",
     "output_type": "stream",
     "text": [
      "LR824624.2\n"
     ]
    },
    {
     "name": "stderr",
     "output_type": "stream",
     "text": [
      "100%|█████████████████████████████████████| 24494/24494 [14:01<00:00, 29.09it/s]\n"
     ]
    },
    {
     "name": "stdout",
     "output_type": "stream",
     "text": [
      "LR824625.2\n"
     ]
    },
    {
     "name": "stderr",
     "output_type": "stream",
     "text": [
      "100%|█████████████████████████████████████| 24150/24150 [13:52<00:00, 29.00it/s]\n"
     ]
    },
    {
     "name": "stdout",
     "output_type": "stream",
     "text": [
      "LR824626.2\n"
     ]
    },
    {
     "name": "stderr",
     "output_type": "stream",
     "text": [
      "100%|█████████████████████████████████████| 21402/21402 [12:17<00:00, 29.03it/s]\n"
     ]
    },
    {
     "name": "stdout",
     "output_type": "stream",
     "text": [
      "LR824627.2\n"
     ]
    },
    {
     "name": "stderr",
     "output_type": "stream",
     "text": [
      "100%|█████████████████████████████████████| 21335/21335 [12:09<00:00, 29.25it/s]\n"
     ]
    },
    {
     "name": "stdout",
     "output_type": "stream",
     "text": [
      "LR824628.2\n"
     ]
    },
    {
     "name": "stderr",
     "output_type": "stream",
     "text": [
      "100%|█████████████████████████████████████| 18111/18111 [10:17<00:00, 29.32it/s]\n"
     ]
    },
    {
     "name": "stdout",
     "output_type": "stream",
     "text": [
      "LR824629.2\n"
     ]
    },
    {
     "name": "stderr",
     "output_type": "stream",
     "text": [
      "100%|█████████████████████████████████████| 17567/17567 [09:59<00:00, 29.30it/s]\n"
     ]
    },
    {
     "name": "stdout",
     "output_type": "stream",
     "text": [
      "LR824630.2\n"
     ]
    },
    {
     "name": "stderr",
     "output_type": "stream",
     "text": [
      "100%|█████████████████████████████████████| 17182/17182 [09:45<00:00, 29.33it/s]\n"
     ]
    },
    {
     "name": "stdout",
     "output_type": "stream",
     "text": [
      "LR824631.2\n"
     ]
    },
    {
     "name": "stderr",
     "output_type": "stream",
     "text": [
      "100%|█████████████████████████████████████| 16426/16426 [09:19<00:00, 29.34it/s]\n"
     ]
    },
    {
     "name": "stdout",
     "output_type": "stream",
     "text": [
      "LR824601.2\n"
     ]
    },
    {
     "name": "stderr",
     "output_type": "stream",
     "text": [
      "100%|█████████████████████████████████████| 40661/40661 [23:10<00:00, 29.25it/s]\n"
     ]
    },
    {
     "name": "stdout",
     "output_type": "stream",
     "text": [
      "CADEPN050000001.1\n"
     ]
    },
    {
     "name": "stderr",
     "output_type": "stream",
     "text": [
      "100%|███████████████████████████████████████| 9264/9264 [05:11<00:00, 29.70it/s]\n"
     ]
    },
    {
     "name": "stdout",
     "output_type": "stream",
     "text": [
      "CADEPN050000002.1\n"
     ]
    },
    {
     "name": "stderr",
     "output_type": "stream",
     "text": [
      "100%|███████████████████████████████████████| 6175/6175 [03:30<00:00, 29.39it/s]\n"
     ]
    },
    {
     "name": "stdout",
     "output_type": "stream",
     "text": [
      "CADEPN050000003.1\n"
     ]
    },
    {
     "name": "stderr",
     "output_type": "stream",
     "text": [
      "100%|███████████████████████████████████████| 3731/3731 [02:07<00:00, 29.34it/s]\n"
     ]
    },
    {
     "name": "stdout",
     "output_type": "stream",
     "text": [
      "CADEPN050000004.1\n"
     ]
    },
    {
     "name": "stderr",
     "output_type": "stream",
     "text": [
      "100%|███████████████████████████████████████| 1424/1424 [00:48<00:00, 29.35it/s]\n"
     ]
    },
    {
     "name": "stdout",
     "output_type": "stream",
     "text": [
      "\n"
     ]
    }
   ],
   "source": [
    "out = []\n",
    "for key in uploaded.keys():\n",
    "    print(key)\n",
    "    out.append(key)\n",
    "    result_dict = {}\n",
    "    for seq_record in SeqIO.parse(StringIO(BytesIO(uploaded[key]).read().decode('UTF-8')), 'fasta'):\n",
    "        kmer_seq = seq2kmer(str(seq_record.seq).upper(), 6)\n",
    "        seq_pieces = split_seq(kmer_seq)\n",
    "        print(seq_record.name)\n",
    "        out.append(seq_record.name)\n",
    "        with torch.no_grad():\n",
    "            preds = []\n",
    "            for seq_piece in tqdm(seq_pieces):\n",
    "                input_ids = torch.LongTensor(tokenizer.encode(' '.join(seq_piece), add_special_tokens=False))\n",
    "                outputs = torch.softmax(model(input_ids.cuda().unsqueeze(0))[-1],axis = -1)[0,:,1]\n",
    "                preds.append(outputs.cpu().numpy())\n",
    "        result_dict[seq_record.name] = stitch_np_seq(preds)\n",
    "\n",
    "\n",
    "\n",
    "        labeled, max_label = scipy.ndimage.label(result_dict[seq_record.name]>model_confidence_threshold)\n",
    "        # print('  start     end')\n",
    "        out.append('  start     end')\n",
    "        for label in range(1, max_label+1):\n",
    "            candidate = np.where(labeled == label)[0]\n",
    "            candidate_length = candidate.shape[0]\n",
    "            if candidate_length>minimum_sequence_length:\n",
    "                # print('{:8}'.format(candidate[0]), '{:8}'.format(candidate[-1]))\n",
    "                out.append('{:8}'.format(candidate[0]) + '{:8}'.format(candidate[-1]))\n",
    "\n",
    "    with open(key + '.preds.pkl',\"wb\") as fh:\n",
    "      pickle.dump(result_dict, fh)\n",
    "    print()\n",
    "\n",
    "with open('text_predictions.txt',\"w\") as fh:\n",
    "    for item in out:\n",
    "        fh.write(\"%s\\n\" % item)\n"
   ]
  },
  {
   "cell_type": "markdown",
   "metadata": {
    "id": "f-6eQuzuz3FJ"
   },
   "source": [
    "## преобразуем в bed"
   ]
  },
  {
   "cell_type": "code",
   "execution_count": 14,
   "metadata": {},
   "outputs": [
    {
     "name": "stderr",
     "output_type": "stream",
     "text": [
      "100%|██████████████████████████████████| 96103/96103 [00:02<00:00, 36095.29it/s]\n"
     ]
    },
    {
     "data": {
      "text/html": [
       "<div>\n",
       "<style scoped>\n",
       "    .dataframe tbody tr th:only-of-type {\n",
       "        vertical-align: middle;\n",
       "    }\n",
       "\n",
       "    .dataframe tbody tr th {\n",
       "        vertical-align: top;\n",
       "    }\n",
       "\n",
       "    .dataframe thead th {\n",
       "        text-align: right;\n",
       "    }\n",
       "</style>\n",
       "<table border=\"1\" class=\"dataframe\">\n",
       "  <thead>\n",
       "    <tr style=\"text-align: right;\">\n",
       "      <th></th>\n",
       "      <th>Scaffold</th>\n",
       "      <th>Start</th>\n",
       "      <th>End</th>\n",
       "    </tr>\n",
       "  </thead>\n",
       "  <tbody>\n",
       "    <tr>\n",
       "      <th>0</th>\n",
       "      <td>LR824602.2</td>\n",
       "      <td>3527</td>\n",
       "      <td>3552</td>\n",
       "    </tr>\n",
       "    <tr>\n",
       "      <th>1</th>\n",
       "      <td>LR824602.2</td>\n",
       "      <td>3657</td>\n",
       "      <td>3690</td>\n",
       "    </tr>\n",
       "    <tr>\n",
       "      <th>2</th>\n",
       "      <td>LR824602.2</td>\n",
       "      <td>4050</td>\n",
       "      <td>4070</td>\n",
       "    </tr>\n",
       "    <tr>\n",
       "      <th>3</th>\n",
       "      <td>LR824602.2</td>\n",
       "      <td>4738</td>\n",
       "      <td>4755</td>\n",
       "    </tr>\n",
       "    <tr>\n",
       "      <th>4</th>\n",
       "      <td>LR824602.2</td>\n",
       "      <td>4888</td>\n",
       "      <td>4899</td>\n",
       "    </tr>\n",
       "    <tr>\n",
       "      <th>...</th>\n",
       "      <td>...</td>\n",
       "      <td>...</td>\n",
       "      <td>...</td>\n",
       "    </tr>\n",
       "    <tr>\n",
       "      <th>96027</th>\n",
       "      <td>CADEPN050000004.1</td>\n",
       "      <td>703806</td>\n",
       "      <td>703818</td>\n",
       "    </tr>\n",
       "    <tr>\n",
       "      <th>96028</th>\n",
       "      <td>CADEPN050000004.1</td>\n",
       "      <td>703840</td>\n",
       "      <td>703850</td>\n",
       "    </tr>\n",
       "    <tr>\n",
       "      <th>96029</th>\n",
       "      <td>CADEPN050000004.1</td>\n",
       "      <td>704104</td>\n",
       "      <td>704118</td>\n",
       "    </tr>\n",
       "    <tr>\n",
       "      <th>96030</th>\n",
       "      <td>CADEPN050000004.1</td>\n",
       "      <td>704236</td>\n",
       "      <td>704251</td>\n",
       "    </tr>\n",
       "    <tr>\n",
       "      <th>96031</th>\n",
       "      <td>CADEPN050000004.1</td>\n",
       "      <td>705447</td>\n",
       "      <td>705462</td>\n",
       "    </tr>\n",
       "  </tbody>\n",
       "</table>\n",
       "<p>96032 rows × 3 columns</p>\n",
       "</div>"
      ],
      "text/plain": [
       "                Scaffold   Start     End\n",
       "0             LR824602.2    3527    3552\n",
       "1             LR824602.2    3657    3690\n",
       "2             LR824602.2    4050    4070\n",
       "3             LR824602.2    4738    4755\n",
       "4             LR824602.2    4888    4899\n",
       "...                  ...     ...     ...\n",
       "96027  CADEPN050000004.1  703806  703818\n",
       "96028  CADEPN050000004.1  703840  703850\n",
       "96029  CADEPN050000004.1  704104  704118\n",
       "96030  CADEPN050000004.1  704236  704251\n",
       "96031  CADEPN050000004.1  705447  705462\n",
       "\n",
       "[96032 rows x 3 columns]"
      ]
     },
     "execution_count": 14,
     "metadata": {},
     "output_type": "execute_result"
    }
   ],
   "source": [
    "import pandas as pd\n",
    "from tqdm import tqdm\n",
    "\n",
    "with open('text_predictions.txt', 'r') as f:\n",
    "    scaffold = ''\n",
    "    lines = f.readlines()\n",
    "\n",
    "\n",
    "results = pd.DataFrame(columns=['Scaffold', 'Start', 'End'], index=range(len(lines)))\n",
    "\n",
    "for i, line in tqdm(enumerate(lines), total=len(lines)):\n",
    "    line = line.strip()\n",
    "    if line == 'genomic' or line.startswith('start'):\n",
    "        continue\n",
    "    if line.startswith('L') or line.startswith('C'):\n",
    "        scaffold = line\n",
    "        continue\n",
    "    \n",
    "    if len(line.split()) == 1:\n",
    "        len_s = len(line) // 2\n",
    "        s, e = line[:len_s], line[len_s:]\n",
    "    else:\n",
    "        s, e = line.split()\n",
    "    s, e = int(s), int(e)\n",
    "    results.loc[i] = [scaffold, s, e]\n",
    "results = results.dropna()\n",
    "results.index = range(len(results))\n",
    "results"
   ]
  },
  {
   "cell_type": "code",
   "execution_count": 15,
   "metadata": {
    "id": "FBCjylW214P2"
   },
   "outputs": [],
   "source": [
    "results.to_csv('zdnabert.bed', index=False, header=False, sep='\\t')"
   ]
  },
  {
   "cell_type": "markdown",
   "metadata": {
    "id": "S-UThbii193q"
   },
   "source": [
    "# ZHUNT"
   ]
  },
  {
   "cell_type": "code",
   "execution_count": 17,
   "metadata": {
    "colab": {
     "base_uri": "https://localhost:8080/"
    },
    "id": "5TbPwt8PFRaw",
    "outputId": "eddf456e-d5a6-4b37-cf2a-3b0210f5a10e"
   },
   "outputs": [
    {
     "name": "stdout",
     "output_type": "stream",
     "text": [
      "\u001b[01m\u001b[Kzhunt3-alan.c:\u001b[m\u001b[K In function ‘\u001b[01m\u001b[Kuser_regret\u001b[m\u001b[K’:\n",
      "\u001b[01m\u001b[Kzhunt3-alan.c:303:7:\u001b[m\u001b[K \u001b[01;35m\u001b[Kwarning: \u001b[m\u001b[K‘\u001b[01m\u001b[Kgets\u001b[m\u001b[K’ is deprecated [\u001b[01;35m\u001b[K\u001b]8;;https://gcc.gnu.org/onlinedocs/gcc/Warning-Options.html#index-Wdeprecated-declarations\u0007-Wdeprecated-declarations\u001b]8;;\u0007\u001b[m\u001b[K]\n",
      "  303 |       \u001b[01;35m\u001b[Kgets\u001b[m\u001b[K( tempstr );\n",
      "      |       \u001b[01;35m\u001b[K^~~~\u001b[m\u001b[K\n",
      "In file included from \u001b[01m\u001b[K/usr/include/stdio.h:894\u001b[m\u001b[K,\n",
      "                 from \u001b[01m\u001b[Kzhunt3-alan.c:27\u001b[m\u001b[K:\n",
      "\u001b[01m\u001b[K/usr/include/x86_64-linux-gnu/bits/stdio2.h:240:1:\u001b[m\u001b[K \u001b[01;36m\u001b[Knote: \u001b[m\u001b[Kdeclared here\n",
      "  240 | \u001b[01;36m\u001b[Kgets\u001b[m\u001b[K (char *__str)\n",
      "      | \u001b[01;36m\u001b[K^~~~\u001b[m\u001b[K\n",
      "\u001b[01m\u001b[Kzhunt3-alan.c:\u001b[m\u001b[K In function ‘\u001b[01m\u001b[Kanalyze_zscore\u001b[m\u001b[K’:\n",
      "\u001b[01m\u001b[Kzhunt3-alan.c:642:18:\u001b[m\u001b[K \u001b[01;35m\u001b[Kwarning: \u001b[m\u001b[Kassignment to ‘\u001b[01m\u001b[Kchar *\u001b[m\u001b[K’ from ‘\u001b[01m\u001b[Kint\u001b[m\u001b[K’ makes pointer from integer without a cast [\u001b[01;35m\u001b[K\u001b]8;;https://gcc.gnu.org/onlinedocs/gcc/Warning-Options.html#index-Wint-conversion\u0007-Wint-conversion\u001b]8;;\u0007\u001b[m\u001b[K]\n",
      "  642 |       antisyn[i] \u001b[01;35m\u001b[K=\u001b[m\u001b[K strdup( tempstr );\n",
      "      |                  \u001b[01;35m\u001b[K^\u001b[m\u001b[K\n",
      "\u001b[01m\u001b[Kzhunt3-alan.c:\u001b[m\u001b[K In function ‘\u001b[01m\u001b[Kuser_regret\u001b[m\u001b[K’:\n",
      "\u001b[01m\u001b[Kzhunt3-alan.c:303:7:\u001b[m\u001b[K \u001b[01;35m\u001b[Kwarning: \u001b[m\u001b[Kignoring return value of ‘\u001b[01m\u001b[Kgets\u001b[m\u001b[K’ declared with attribute ‘\u001b[01m\u001b[Kwarn_unused_result\u001b[m\u001b[K’ [\u001b[01;35m\u001b[K\u001b]8;;https://gcc.gnu.org/onlinedocs/gcc/Warning-Options.html#index-Wunused-result\u0007-Wunused-result\u001b]8;;\u0007\u001b[m\u001b[K]\n",
      "  303 |       \u001b[01;35m\u001b[Kgets( tempstr )\u001b[m\u001b[K;\n",
      "      |       \u001b[01;35m\u001b[K^~~~~~~~~~~~~~~\u001b[m\u001b[K\n",
      "\u001b[01m\u001b[Kzhunt3-alan.c:\u001b[m\u001b[K In function ‘\u001b[01m\u001b[Kanalyze_zscore\u001b[m\u001b[K’:\n",
      "\u001b[01m\u001b[Kzhunt3-alan.c:632:3:\u001b[m\u001b[K \u001b[01;35m\u001b[Kwarning: \u001b[m\u001b[Kignoring return value of ‘\u001b[01m\u001b[Kfscanf\u001b[m\u001b[K’ declared with attribute ‘\u001b[01m\u001b[Kwarn_unused_result\u001b[m\u001b[K’ [\u001b[01;35m\u001b[K\u001b]8;;https://gcc.gnu.org/onlinedocs/gcc/Warning-Options.html#index-Wunused-result\u0007-Wunused-result\u001b]8;;\u0007\u001b[m\u001b[K]\n",
      "  632 |   \u001b[01;35m\u001b[Kfscanf( file, \"%s %u %d %d\", tempstr, &seqlength, &fromdin, &todin )\u001b[m\u001b[K;\n",
      "      |   \u001b[01;35m\u001b[K^~~~~~~~~~~~~~~~~~~~~~~~~~~~~~~~~~~~~~~~~~~~~~~~~~~~~~~~~~~~~~~~~~~~\u001b[m\u001b[K\n",
      "\u001b[01m\u001b[Kzhunt3-alan.c:641:7:\u001b[m\u001b[K \u001b[01;35m\u001b[Kwarning: \u001b[m\u001b[Kignoring return value of ‘\u001b[01m\u001b[Kfscanf\u001b[m\u001b[K’ declared with attribute ‘\u001b[01m\u001b[Kwarn_unused_result\u001b[m\u001b[K’ [\u001b[01;35m\u001b[K\u001b]8;;https://gcc.gnu.org/onlinedocs/gcc/Warning-Options.html#index-Wunused-result\u0007-Wunused-result\u001b]8;;\u0007\u001b[m\u001b[K]\n",
      "  641 |       \u001b[01;35m\u001b[Kfscanf( file, \"%f %f %f %s\", dl+i, slope+i, probability+i, tempstr )\u001b[m\u001b[K;\n",
      "      |       \u001b[01;35m\u001b[K^~~~~~~~~~~~~~~~~~~~~~~~~~~~~~~~~~~~~~~~~~~~~~~~~~~~~~~~~~~~~~~~~~~~\u001b[m\u001b[K\n",
      "\u001b[01m\u001b[Kzhunt3-alan.c:\u001b[m\u001b[K In function ‘\u001b[01m\u001b[Krandom_distribution\u001b[m\u001b[K’:\n",
      "\u001b[01m\u001b[Kzhunt3-alan.c:734:7:\u001b[m\u001b[K \u001b[01;35m\u001b[Kwarning: \u001b[m\u001b[Kignoring return value of ‘\u001b[01m\u001b[Kscanf\u001b[m\u001b[K’ declared with attribute ‘\u001b[01m\u001b[Kwarn_unused_result\u001b[m\u001b[K’ [\u001b[01;35m\u001b[K\u001b]8;;https://gcc.gnu.org/onlinedocs/gcc/Warning-Options.html#index-Wunused-result\u0007-Wunused-result\u001b]8;;\u0007\u001b[m\u001b[K]\n",
      "  734 |       \u001b[01;35m\u001b[Kscanf( \"%d\", &select )\u001b[m\u001b[K;\n",
      "      |       \u001b[01;35m\u001b[K^~~~~~~~~~~~~~~~~~~~~~\u001b[m\u001b[K\n",
      "In file included from \u001b[01m\u001b[K/usr/include/stdio.h:894\u001b[m\u001b[K,\n",
      "                 from \u001b[01m\u001b[Kzhunt3-alan.c:27\u001b[m\u001b[K:\n",
      "In function ‘\u001b[01m\u001b[Kgets\u001b[m\u001b[K’,\n",
      "    inlined from ‘\u001b[01m\u001b[Kuser_regret\u001b[m\u001b[K’ at \u001b[01m\u001b[Kzhunt3-alan.c:303:7\u001b[m\u001b[K:\n",
      "\u001b[01m\u001b[K/usr/include/x86_64-linux-gnu/bits/stdio2.h:244:10:\u001b[m\u001b[K \u001b[01;35m\u001b[Kwarning: \u001b[m\u001b[Kcall to ‘\u001b[01m\u001b[K__gets_warn\u001b[m\u001b[K’ declared with attribute warning: please use fgets or getline instead, gets can't specify buffer size [\u001b[01;35m\u001b[K\u001b]8;;https://gcc.gnu.org/onlinedocs/gcc/Warning-Options.html#index-Wattribute-warning\u0007-Wattribute-warning\u001b]8;;\u0007\u001b[m\u001b[K]\n",
      "  244 |   return \u001b[01;35m\u001b[K__gets_warn (__str)\u001b[m\u001b[K;\n",
      "      |          \u001b[01;35m\u001b[K^~~~~~~~~~~~~~~~~~~\u001b[m\u001b[K\n",
      "In function ‘\u001b[01m\u001b[Kgets\u001b[m\u001b[K’,\n",
      "    inlined from ‘\u001b[01m\u001b[Kuser_regret\u001b[m\u001b[K’ at \u001b[01m\u001b[Kzhunt3-alan.c:303:7\u001b[m\u001b[K,\n",
      "    inlined from ‘\u001b[01m\u001b[Krun_distribution\u001b[m\u001b[K’ at \u001b[01m\u001b[Kzhunt3-alan.c:759:7\u001b[m\u001b[K:\n",
      "\u001b[01m\u001b[K/usr/include/x86_64-linux-gnu/bits/stdio2.h:244:10:\u001b[m\u001b[K \u001b[01;35m\u001b[Kwarning: \u001b[m\u001b[Kcall to ‘\u001b[01m\u001b[K__gets_warn\u001b[m\u001b[K’ declared with attribute warning: please use fgets or getline instead, gets can't specify buffer size [\u001b[01;35m\u001b[K\u001b]8;;https://gcc.gnu.org/onlinedocs/gcc/Warning-Options.html#index-Wattribute-warning\u0007-Wattribute-warning\u001b]8;;\u0007\u001b[m\u001b[K]\n",
      "  244 |   return \u001b[01;35m\u001b[K__gets_warn (__str)\u001b[m\u001b[K;\n",
      "      |          \u001b[01;35m\u001b[K^~~~~~~~~~~~~~~~~~~\u001b[m\u001b[K\n",
      "In function ‘\u001b[01m\u001b[Kgets\u001b[m\u001b[K’,\n",
      "    inlined from ‘\u001b[01m\u001b[Kuser_regret\u001b[m\u001b[K’ at \u001b[01m\u001b[Kzhunt3-alan.c:303:7\u001b[m\u001b[K,\n",
      "    inlined from ‘\u001b[01m\u001b[Krun_distribution\u001b[m\u001b[K’ at \u001b[01m\u001b[Kzhunt3-alan.c:767:7\u001b[m\u001b[K:\n",
      "\u001b[01m\u001b[K/usr/include/x86_64-linux-gnu/bits/stdio2.h:244:10:\u001b[m\u001b[K \u001b[01;35m\u001b[Kwarning: \u001b[m\u001b[Kcall to ‘\u001b[01m\u001b[K__gets_warn\u001b[m\u001b[K’ declared with attribute warning: please use fgets or getline instead, gets can't specify buffer size [\u001b[01;35m\u001b[K\u001b]8;;https://gcc.gnu.org/onlinedocs/gcc/Warning-Options.html#index-Wattribute-warning\u0007-Wattribute-warning\u001b]8;;\u0007\u001b[m\u001b[K]\n",
      "  244 |   return \u001b[01;35m\u001b[K__gets_warn (__str)\u001b[m\u001b[K;\n",
      "      |          \u001b[01;35m\u001b[K^~~~~~~~~~~~~~~~~~~\u001b[m\u001b[K\n",
      "/usr/bin/ld: /tmp/ccCYdXF9.o: in function `user_regret':\n",
      "zhunt3-alan.c:(.text+0xf41): warning: the `gets' function is dangerous and should not be used.\n"
     ]
    }
   ],
   "source": [
    "!chmod a+x zhunt3-alan.c\n",
    "!gcc zhunt3-alan.c -lm -o zhunt3 -std=c90 -O3"
   ]
  },
  {
   "cell_type": "code",
   "execution_count": 18,
   "metadata": {
    "colab": {
     "background_save": true,
     "base_uri": "https://localhost:8080/"
    },
    "id": "-T7w1HrNqzDe",
    "outputId": "024f425c-3847-445a-fec7-b3a54d9f5fd1"
   },
   "outputs": [
    {
     "name": "stdout",
     "output_type": "stream",
     "text": [
      "dinucleotides 12\n",
      "min/max 8 12\n",
      "min/max 8 12\n",
      "operating on genomic.fna\n",
      "calculating zscore\n",
      "opening genomic.fna\n",
      "inputting sequence\n",
      "opening genomic.fna.Z-SCORE\n",
      "\n",
      " run time=21079 sec\n",
      "use min/max 8 12\n",
      "analyzing_zscore\n",
      "opening genomic.fna.Z-SCORE\n"
     ]
    }
   ],
   "source": [
    "!./zhunt3 12 8 12 genomic.fna"
   ]
  },
  {
   "cell_type": "code",
   "execution_count": 19,
   "metadata": {
    "colab": {
     "base_uri": "https://localhost:8080/"
    },
    "id": "8K5ShVjVzMQ_",
    "outputId": "878e6e2c-deb3-4929-c45e-19f11c2dc2e2"
   },
   "outputs": [
    {
     "name": "stdout",
     "output_type": "stream",
     "text": [
      "genomic.fna 450885468 8 12\n",
      "1 17 16  29.697  19.432 4.936124e-01 tagagnacacctaacc   ASASSASASASASASA\n",
      "2 18 16  32.232  17.601 1.715825e-01 agagnacacctaacct   SASAASASASSASASA\n",
      "3 19 16  30.179  15.406 4.233678e-01 gagnacacctaaccta   ASSASASASASAASAS\n",
      "4 24 20  32.282  15.829 1.669393e-01 agnacacctaacctaaccta   SAASASASASASASASASAS\n",
      "5 21 16  30.129  15.080 4.305851e-01 gnacacctaacctaac   SASASASASASASASA\n",
      "6 24 18  31.749  11.334 2.205216e-01 nacacctaacctaaccta   ASASASASASASASASAS\n",
      "7 23 16  30.322  14.140 4.030077e-01 acacctaacctaacct   SASASASASASASASA\n",
      "8 24 16  31.282  12.553 2.747381e-01 cacctaacctaaccta   ASASASASASASASAS\n",
      "9 25 16  33.585  22.954 7.417036e-02 acctaacctaacctaa   SASASASASASASASA\n"
     ]
    }
   ],
   "source": [
    "!head genomic.fna.Z-SCORE"
   ]
  },
  {
   "cell_type": "code",
   "execution_count": 20,
   "metadata": {},
   "outputs": [
    {
     "data": {
      "text/plain": [
       "{'LR824602.2': (1, 19549462),\n",
       " 'LR824603.2': (19549463, 36786807),\n",
       " 'LR824604.2': (36786808, 53377778),\n",
       " 'LR824605.2': (53377779, 69618174),\n",
       " 'LR824606.2': (69618175, 85746721),\n",
       " 'LR824607.2': (85746722, 101840773),\n",
       " 'LR824608.2': (101840774, 117669678),\n",
       " 'LR824609.2': (117669679, 133493842),\n",
       " 'LR824610.2': (133493843, 149286655),\n",
       " 'LR824611.2': (149286656, 164928677),\n",
       " 'LR824612.2': (164928678, 180356271),\n",
       " 'LR824613.2': (180356272, 195684983),\n",
       " 'LR824614.2': (195684984, 210877553),\n",
       " 'LR824615.2': (210877554, 225964022),\n",
       " 'LR824616.2': (225964023, 241001821),\n",
       " 'LR824617.2': (241001822, 255829335),\n",
       " 'LR824618.2': (255829336, 270461710),\n",
       " 'LR824619.2': (270461711, 284996514),\n",
       " 'LR824620.2': (284996515, 299253309),\n",
       " 'LR824621.2': (299253310, 313461087),\n",
       " 'LR824622.2': (313461088, 327516395),\n",
       " 'LR824623.2': (327516396, 340814947),\n",
       " 'LR824624.2': (340814948, 352963919),\n",
       " 'LR824625.2': (352963920, 364941904),\n",
       " 'LR824626.2': (364941905, 375556839),\n",
       " 'LR824627.2': (375556840, 386138837),\n",
       " 'LR824628.2': (386138838, 395121772),\n",
       " 'LR824629.2': (395121773, 403834695),\n",
       " 'LR824630.2': (403834696, 412356660),\n",
       " 'LR824631.2': (412356661, 420503629),\n",
       " 'LR824601.2': (420503630, 440671300),\n",
       " 'CADEPN050000001.1': (440671301, 445266104),\n",
       " 'CADEPN050000002.1': (445266105, 448328595),\n",
       " 'CADEPN050000003.1': (448328596, 450178980),\n",
       " 'CADEPN050000004.1': (450178981, 450885128)}"
      ]
     },
     "execution_count": 20,
     "metadata": {},
     "output_type": "execute_result"
    }
   ],
   "source": [
    "segs = {}\n",
    "cur = 1\n",
    "\n",
    "for record in SeqIO.parse(\"genomic.fna\", \"fasta\"):\n",
    "    name, seq = record.id, str(record.seq)\n",
    "    sz = len(seq)\n",
    "    segs[name] = (cur, cur + sz - 1)\n",
    "    cur += sz\n",
    "segs"
   ]
  },
  {
   "cell_type": "code",
   "execution_count": null,
   "metadata": {
    "id": "J5f5aTSc2OVT"
   },
   "outputs": [
    {
     "name": "stderr",
     "output_type": "stream",
     "text": [
      "/tmp/ipykernel_7031/910999059.py:1: FutureWarning: The 'delim_whitespace' keyword in pd.read_csv is deprecated and will be removed in a future version. Use ``sep='\\s+'`` instead\n",
      "  result = pd.read_csv(\"genomic.fna.Z-SCORE\", skiprows=1, names=[\"start\",\"end\",\"len\",\"1\",\"2\",\"score\",\"seq\",\"3\"], delim_whitespace=True)\n"
     ]
    }
   ],
   "source": [
    "import pandas as pd\n",
    "\n",
    "result = pd.read_csv(\"genomic.fna.Z-SCORE\", skiprows=1, names=[\"start\",\"end\",\"len\",\"1\",\"2\",\"score\",\"seq\",\"3\"], delim_whitespace=True)\n",
    "result = result[result['score'] >= 400]\n",
    "result"
   ]
  },
  {
   "cell_type": "code",
   "execution_count": 2,
   "metadata": {},
   "outputs": [
    {
     "name": "stderr",
     "output_type": "stream",
     "text": [
      "/tmp/ipykernel_89229/2766162285.py:4: FutureWarning: The 'delim_whitespace' keyword in pd.read_csv is deprecated and will be removed in a future version. Use ``sep='\\s+'`` instead\n",
      "  chunks = pd.read_csv(\n",
      "45089it [07:09, 105.00it/s]\n"
     ]
    }
   ],
   "source": [
    "import pandas as pd\n",
    "from tqdm import tqdm\n",
    "\n",
    "chunks = pd.read_csv(\n",
    "    \"genomic.fna.Z-SCORE\",\n",
    "    skiprows=1,\n",
    "    names=[\"start\", \"end\", \"len\", \"1\", \"2\", \"score\", \"seq\", \"3\"],\n",
    "    delim_whitespace=True,\n",
    "    chunksize=10000\n",
    ")\n",
    "\n",
    "result = []\n",
    "for chunk in tqdm(chunks):\n",
    "    filtered_chunk = chunk[chunk['score'] >= 400]\n",
    "    result.append(filtered_chunk)\n",
    "\n",
    "result = pd.concat(result, ignore_index=True)"
   ]
  },
  {
   "cell_type": "code",
   "execution_count": 3,
   "metadata": {},
   "outputs": [
    {
     "data": {
      "text/html": [
       "<div>\n",
       "<style scoped>\n",
       "    .dataframe tbody tr th:only-of-type {\n",
       "        vertical-align: middle;\n",
       "    }\n",
       "\n",
       "    .dataframe tbody tr th {\n",
       "        vertical-align: top;\n",
       "    }\n",
       "\n",
       "    .dataframe thead th {\n",
       "        text-align: right;\n",
       "    }\n",
       "</style>\n",
       "<table border=\"1\" class=\"dataframe\">\n",
       "  <thead>\n",
       "    <tr style=\"text-align: right;\">\n",
       "      <th></th>\n",
       "      <th>start</th>\n",
       "      <th>end</th>\n",
       "      <th>len</th>\n",
       "      <th>1</th>\n",
       "      <th>2</th>\n",
       "      <th>score</th>\n",
       "      <th>seq</th>\n",
       "      <th>3</th>\n",
       "    </tr>\n",
       "  </thead>\n",
       "  <tbody>\n",
       "    <tr>\n",
       "      <th>0</th>\n",
       "      <td>3525</td>\n",
       "      <td>3549</td>\n",
       "      <td>24</td>\n",
       "      <td>21.606</td>\n",
       "      <td>23.116</td>\n",
       "      <td>647.6098</td>\n",
       "      <td>ccccggtgtcttctcgcacgtgcg</td>\n",
       "      <td>ASASASASASASASASASASASAS</td>\n",
       "    </tr>\n",
       "    <tr>\n",
       "      <th>1</th>\n",
       "      <td>3526</td>\n",
       "      <td>3550</td>\n",
       "      <td>24</td>\n",
       "      <td>21.572</td>\n",
       "      <td>24.304</td>\n",
       "      <td>674.1187</td>\n",
       "      <td>cccggtgtcttctcgcacgtgcgc</td>\n",
       "      <td>ASSASASASASASASASASASASA</td>\n",
       "    </tr>\n",
       "    <tr>\n",
       "      <th>2</th>\n",
       "      <td>3527</td>\n",
       "      <td>3551</td>\n",
       "      <td>24</td>\n",
       "      <td>19.621</td>\n",
       "      <td>36.762</td>\n",
       "      <td>8867.7300</td>\n",
       "      <td>ccggtgtcttctcgcacgtgcgcg</td>\n",
       "      <td>ASASASASASASASASASASASAS</td>\n",
       "    </tr>\n",
       "    <tr>\n",
       "      <th>3</th>\n",
       "      <td>3528</td>\n",
       "      <td>3552</td>\n",
       "      <td>24</td>\n",
       "      <td>19.620</td>\n",
       "      <td>36.613</td>\n",
       "      <td>8883.3840</td>\n",
       "      <td>cggtgtcttctcgcacgtgcgcgc</td>\n",
       "      <td>SASASASASASASASASASASASA</td>\n",
       "    </tr>\n",
       "    <tr>\n",
       "      <th>4</th>\n",
       "      <td>3529</td>\n",
       "      <td>3553</td>\n",
       "      <td>24</td>\n",
       "      <td>18.210</td>\n",
       "      <td>46.418</td>\n",
       "      <td>77328.8400</td>\n",
       "      <td>ggtgtcttctcgcacgtgcgcgcg</td>\n",
       "      <td>ASASASASASASASASASASASAS</td>\n",
       "    </tr>\n",
       "    <tr>\n",
       "      <th>...</th>\n",
       "      <td>...</td>\n",
       "      <td>...</td>\n",
       "      <td>...</td>\n",
       "      <td>...</td>\n",
       "      <td>...</td>\n",
       "      <td>...</td>\n",
       "      <td>...</td>\n",
       "      <td>...</td>\n",
       "    </tr>\n",
       "    <tr>\n",
       "      <th>1672827</th>\n",
       "      <td>450884767</td>\n",
       "      <td>450884783</td>\n",
       "      <td>16</td>\n",
       "      <td>20.863</td>\n",
       "      <td>37.866</td>\n",
       "      <td>1626.4230</td>\n",
       "      <td>tgctgcgcccgcgctt</td>\n",
       "      <td>ASSASASASASASASA</td>\n",
       "    </tr>\n",
       "    <tr>\n",
       "      <th>1672828</th>\n",
       "      <td>450884768</td>\n",
       "      <td>450884784</td>\n",
       "      <td>16</td>\n",
       "      <td>21.605</td>\n",
       "      <td>37.802</td>\n",
       "      <td>648.0815</td>\n",
       "      <td>gctgcgcccgcgctta</td>\n",
       "      <td>ASASASASASASASAS</td>\n",
       "    </tr>\n",
       "    <tr>\n",
       "      <th>1672829</th>\n",
       "      <td>450884769</td>\n",
       "      <td>450884785</td>\n",
       "      <td>16</td>\n",
       "      <td>20.784</td>\n",
       "      <td>38.517</td>\n",
       "      <td>1800.5180</td>\n",
       "      <td>ctgcgcccgcgcttat</td>\n",
       "      <td>SASASASASASASASA</td>\n",
       "    </tr>\n",
       "    <tr>\n",
       "      <th>1672830</th>\n",
       "      <td>450884770</td>\n",
       "      <td>450884786</td>\n",
       "      <td>16</td>\n",
       "      <td>21.605</td>\n",
       "      <td>37.652</td>\n",
       "      <td>648.0815</td>\n",
       "      <td>tgcgcccgcgcttata</td>\n",
       "      <td>ASASASASASASASAS</td>\n",
       "    </tr>\n",
       "    <tr>\n",
       "      <th>1672831</th>\n",
       "      <td>450884771</td>\n",
       "      <td>450884787</td>\n",
       "      <td>16</td>\n",
       "      <td>20.870</td>\n",
       "      <td>37.671</td>\n",
       "      <td>1611.1740</td>\n",
       "      <td>gcgcccgcgcttatag</td>\n",
       "      <td>SASASASASASASASA</td>\n",
       "    </tr>\n",
       "  </tbody>\n",
       "</table>\n",
       "<p>1672832 rows × 8 columns</p>\n",
       "</div>"
      ],
      "text/plain": [
       "             start        end  len       1       2       score  \\\n",
       "0             3525       3549   24  21.606  23.116    647.6098   \n",
       "1             3526       3550   24  21.572  24.304    674.1187   \n",
       "2             3527       3551   24  19.621  36.762   8867.7300   \n",
       "3             3528       3552   24  19.620  36.613   8883.3840   \n",
       "4             3529       3553   24  18.210  46.418  77328.8400   \n",
       "...            ...        ...  ...     ...     ...         ...   \n",
       "1672827  450884767  450884783   16  20.863  37.866   1626.4230   \n",
       "1672828  450884768  450884784   16  21.605  37.802    648.0815   \n",
       "1672829  450884769  450884785   16  20.784  38.517   1800.5180   \n",
       "1672830  450884770  450884786   16  21.605  37.652    648.0815   \n",
       "1672831  450884771  450884787   16  20.870  37.671   1611.1740   \n",
       "\n",
       "                              seq                         3  \n",
       "0        ccccggtgtcttctcgcacgtgcg  ASASASASASASASASASASASAS  \n",
       "1        cccggtgtcttctcgcacgtgcgc  ASSASASASASASASASASASASA  \n",
       "2        ccggtgtcttctcgcacgtgcgcg  ASASASASASASASASASASASAS  \n",
       "3        cggtgtcttctcgcacgtgcgcgc  SASASASASASASASASASASASA  \n",
       "4        ggtgtcttctcgcacgtgcgcgcg  ASASASASASASASASASASASAS  \n",
       "...                           ...                       ...  \n",
       "1672827          tgctgcgcccgcgctt          ASSASASASASASASA  \n",
       "1672828          gctgcgcccgcgctta          ASASASASASASASAS  \n",
       "1672829          ctgcgcccgcgcttat          SASASASASASASASA  \n",
       "1672830          tgcgcccgcgcttata          ASASASASASASASAS  \n",
       "1672831          gcgcccgcgcttatag          SASASASASASASASA  \n",
       "\n",
       "[1672832 rows x 8 columns]"
      ]
     },
     "execution_count": 3,
     "metadata": {},
     "output_type": "execute_result"
    }
   ],
   "source": [
    "result"
   ]
  },
  {
   "cell_type": "code",
   "execution_count": 10,
   "metadata": {},
   "outputs": [
    {
     "data": {
      "text/plain": [
       "[('LR824602.2', 1, 19549462),\n",
       " ('LR824603.2', 19549463, 36786807),\n",
       " ('LR824604.2', 36786808, 53377778),\n",
       " ('LR824605.2', 53377779, 69618174),\n",
       " ('LR824606.2', 69618175, 85746721),\n",
       " ('LR824607.2', 85746722, 101840773),\n",
       " ('LR824608.2', 101840774, 117669678),\n",
       " ('LR824609.2', 117669679, 133493842),\n",
       " ('LR824610.2', 133493843, 149286655),\n",
       " ('LR824611.2', 149286656, 164928677)]"
      ]
     },
     "execution_count": 10,
     "metadata": {},
     "output_type": "execute_result"
    }
   ],
   "source": [
    "from Bio import SeqIO\n",
    "\n",
    "segs = []\n",
    "cur = 1\n",
    "\n",
    "for record in SeqIO.parse(\"genomic.fna\", \"fasta\"):\n",
    "    name, seq = record.id, str(record.seq)\n",
    "    sz = len(seq)\n",
    "    segs.append((name, cur, cur+sz-1))\n",
    "    cur += sz\n",
    "segs[:10]"
   ]
  },
  {
   "cell_type": "code",
   "execution_count": 11,
   "metadata": {
    "colab": {
     "base_uri": "https://localhost:8080/"
    },
    "id": "2NRc-21usqlM",
    "outputId": "82ff90d8-1e1b-4781-cf65-cdb5018309e7"
   },
   "outputs": [
    {
     "data": {
      "application/vnd.jupyter.widget-view+json": {
       "model_id": "e86d7d88c4464595a84982ab54f50716",
       "version_major": 2,
       "version_minor": 0
      },
      "text/plain": [
       "  0%|          | 0/383924861 [00:00<?, ?it/s]"
      ]
     },
     "metadata": {},
     "output_type": "display_data"
    },
    {
     "name": "stdout",
     "output_type": "stream",
     "text": [
      "LR824602.2\t3525\t3549\n",
      "LR824602.2\t3526\t3550\n",
      "LR824602.2\t3527\t3551\n",
      "LR824602.2\t3528\t3552\n",
      "LR824602.2\t3529\t3553\n",
      "LR824602.2\t3530\t3554\n",
      "LR824602.2\t3531\t3553\n",
      "LR824602.2\t3532\t3554\n",
      "LR824602.2\t3533\t3553\n",
      "LR824602.2\t3534\t3554\n"
     ]
    }
   ],
   "source": [
    "from tqdm.auto import tqdm\n",
    "\n",
    "segs_p = 0\n",
    "\n",
    "with open('genomic.fna.Z-SCORE', 'r') as inp, open('zhunt.bed', 'w') as out:\n",
    "    for line in tqdm(inp, total=450885469):\n",
    "        if line.startswith('genomic.fna'):\n",
    "            continue\n",
    "        if float(line.split()[5]) < 400:\n",
    "            continue\n",
    "\n",
    "        start = int(line.split()[0])\n",
    "        end = int(line.split()[1])\n",
    "\n",
    "        while segs_p < len(segs) and segs[segs_p][2] < start:\n",
    "            segs_p += 1\n",
    "        if segs_p == len(segs):\n",
    "            continue\n",
    "\n",
    "        name, l, r = segs[segs_p]\n",
    "        if l <= start <= end <= r:\n",
    "            out.write(f'{name}\\t{start}\\t{end}\\n')\n",
    "\n",
    "!head 'zhunt.bed'"
   ]
  },
  {
   "cell_type": "markdown",
   "metadata": {},
   "source": [
    "# Квадруплексы"
   ]
  },
  {
   "cell_type": "code",
   "execution_count": 12,
   "metadata": {},
   "outputs": [
    {
     "name": "stdout",
     "output_type": "stream",
     "text": [
      "Defaulting to user installation because normal site-packages is not writeable\n",
      "Requirement already satisfied: biopython in /home/tem_shett/.local/lib/python3.10/site-packages (1.83)\n",
      "Requirement already satisfied: numpy in /home/tem_shett/.local/lib/python3.10/site-packages (from biopython) (1.26.4)\n",
      "\n",
      "\u001b[1m[\u001b[0m\u001b[34;49mnotice\u001b[0m\u001b[1;39;49m]\u001b[0m\u001b[39;49m A new release of pip is available: \u001b[0m\u001b[31;49m25.0.1\u001b[0m\u001b[39;49m -> \u001b[0m\u001b[32;49m25.1.1\u001b[0m\n",
      "\u001b[1m[\u001b[0m\u001b[34;49mnotice\u001b[0m\u001b[1;39;49m]\u001b[0m\u001b[39;49m To update, run: \u001b[0m\u001b[32;49mpython3 -m pip install --upgrade pip\u001b[0m\n",
      "Note: you may need to restart the kernel to use updated packages.\n"
     ]
    }
   ],
   "source": [
    "%pip install biopython\n",
    "import re\n",
    "from Bio import SeqIO\n",
    "import numpy as np\n",
    "import pandas as pd\n",
    "from tqdm.auto import tqdm"
   ]
  },
  {
   "cell_type": "code",
   "execution_count": 13,
   "metadata": {},
   "outputs": [],
   "source": [
    "pattern_plus = \"(?:G{3,5}[ATGC]{1,7}){3,}G{3,5}\"\n",
    "pattern_minus = \"(?:C{3,5}[ATGC]{1,7}){3,}C{3,5}\""
   ]
  },
  {
   "cell_type": "code",
   "execution_count": 14,
   "metadata": {},
   "outputs": [],
   "source": [
    "fasta_sequence = [el for el in SeqIO.parse(\"genomic.fna\",'fasta')]"
   ]
  },
  {
   "cell_type": "code",
   "execution_count": 15,
   "metadata": {},
   "outputs": [
    {
     "data": {
      "application/vnd.jupyter.widget-view+json": {
       "model_id": "ea527c86bc0e41a29da15a38fef90ce4",
       "version_major": 2,
       "version_minor": 0
      },
      "text/plain": [
       "  0%|          | 0/35 [00:00<?, ?it/s]"
      ]
     },
     "metadata": {},
     "output_type": "display_data"
    },
    {
     "data": {
      "text/html": [
       "<div>\n",
       "<style scoped>\n",
       "    .dataframe tbody tr th:only-of-type {\n",
       "        vertical-align: middle;\n",
       "    }\n",
       "\n",
       "    .dataframe tbody tr th {\n",
       "        vertical-align: top;\n",
       "    }\n",
       "\n",
       "    .dataframe thead th {\n",
       "        text-align: right;\n",
       "    }\n",
       "</style>\n",
       "<table border=\"1\" class=\"dataframe\">\n",
       "  <thead>\n",
       "    <tr style=\"text-align: right;\">\n",
       "      <th></th>\n",
       "      <th>scaffold</th>\n",
       "      <th>start</th>\n",
       "      <th>end</th>\n",
       "      <th>sequence</th>\n",
       "      <th>name</th>\n",
       "      <th>strand</th>\n",
       "    </tr>\n",
       "  </thead>\n",
       "  <tbody>\n",
       "    <tr>\n",
       "      <th>0</th>\n",
       "      <td>LR824602.2</td>\n",
       "      <td>20909</td>\n",
       "      <td>20941</td>\n",
       "      <td>gggagtccaagggcaagggaaagggtaagggg</td>\n",
       "      <td></td>\n",
       "      <td>+</td>\n",
       "    </tr>\n",
       "    <tr>\n",
       "      <th>1</th>\n",
       "      <td>LR824602.2</td>\n",
       "      <td>52873</td>\n",
       "      <td>52898</td>\n",
       "      <td>gggggacgggagagggttatgtggg</td>\n",
       "      <td></td>\n",
       "      <td>+</td>\n",
       "    </tr>\n",
       "    <tr>\n",
       "      <th>2</th>\n",
       "      <td>LR824602.2</td>\n",
       "      <td>57784</td>\n",
       "      <td>57809</td>\n",
       "      <td>gggggacgggagagggttatgtggg</td>\n",
       "      <td></td>\n",
       "      <td>+</td>\n",
       "    </tr>\n",
       "    <tr>\n",
       "      <th>3</th>\n",
       "      <td>LR824602.2</td>\n",
       "      <td>66403</td>\n",
       "      <td>66428</td>\n",
       "      <td>gggggacgggagagggttatgtggg</td>\n",
       "      <td></td>\n",
       "      <td>+</td>\n",
       "    </tr>\n",
       "    <tr>\n",
       "      <th>4</th>\n",
       "      <td>LR824602.2</td>\n",
       "      <td>94936</td>\n",
       "      <td>94968</td>\n",
       "      <td>GGGCCCACGTGGGAACTGCGGGGAAGAGAGGG</td>\n",
       "      <td></td>\n",
       "      <td>+</td>\n",
       "    </tr>\n",
       "    <tr>\n",
       "      <th>...</th>\n",
       "      <td>...</td>\n",
       "      <td>...</td>\n",
       "      <td>...</td>\n",
       "      <td>...</td>\n",
       "      <td>...</td>\n",
       "      <td>...</td>\n",
       "    </tr>\n",
       "    <tr>\n",
       "      <th>32875</th>\n",
       "      <td>CADEPN050000004.1</td>\n",
       "      <td>476142</td>\n",
       "      <td>476167</td>\n",
       "      <td>CCCGGTCCCAAAATCCCCTCGACCC</td>\n",
       "      <td></td>\n",
       "      <td>-</td>\n",
       "    </tr>\n",
       "    <tr>\n",
       "      <th>32876</th>\n",
       "      <td>CADEPN050000004.1</td>\n",
       "      <td>479644</td>\n",
       "      <td>479669</td>\n",
       "      <td>cccacataaccctctcccgtccccc</td>\n",
       "      <td></td>\n",
       "      <td>-</td>\n",
       "    </tr>\n",
       "    <tr>\n",
       "      <th>32877</th>\n",
       "      <td>CADEPN050000004.1</td>\n",
       "      <td>483131</td>\n",
       "      <td>483156</td>\n",
       "      <td>cccaatccttccccgccccaatccc</td>\n",
       "      <td></td>\n",
       "      <td>-</td>\n",
       "    </tr>\n",
       "    <tr>\n",
       "      <th>32878</th>\n",
       "      <td>CADEPN050000004.1</td>\n",
       "      <td>537392</td>\n",
       "      <td>537407</td>\n",
       "      <td>cccaccctcccgccc</td>\n",
       "      <td></td>\n",
       "      <td>-</td>\n",
       "    </tr>\n",
       "    <tr>\n",
       "      <th>32879</th>\n",
       "      <td>CADEPN050000004.1</td>\n",
       "      <td>624457</td>\n",
       "      <td>624479</td>\n",
       "      <td>CCCGCTgcccgcccgcgccccc</td>\n",
       "      <td></td>\n",
       "      <td>-</td>\n",
       "    </tr>\n",
       "  </tbody>\n",
       "</table>\n",
       "<p>32880 rows × 6 columns</p>\n",
       "</div>"
      ],
      "text/plain": [
       "                scaffold   start     end                          sequence  \\\n",
       "0             LR824602.2   20909   20941  gggagtccaagggcaagggaaagggtaagggg   \n",
       "1             LR824602.2   52873   52898         gggggacgggagagggttatgtggg   \n",
       "2             LR824602.2   57784   57809         gggggacgggagagggttatgtggg   \n",
       "3             LR824602.2   66403   66428         gggggacgggagagggttatgtggg   \n",
       "4             LR824602.2   94936   94968  GGGCCCACGTGGGAACTGCGGGGAAGAGAGGG   \n",
       "...                  ...     ...     ...                               ...   \n",
       "32875  CADEPN050000004.1  476142  476167         CCCGGTCCCAAAATCCCCTCGACCC   \n",
       "32876  CADEPN050000004.1  479644  479669         cccacataaccctctcccgtccccc   \n",
       "32877  CADEPN050000004.1  483131  483156         cccaatccttccccgccccaatccc   \n",
       "32878  CADEPN050000004.1  537392  537407                   cccaccctcccgccc   \n",
       "32879  CADEPN050000004.1  624457  624479            CCCGCTgcccgcccgcgccccc   \n",
       "\n",
       "      name strand  \n",
       "0               +  \n",
       "1               +  \n",
       "2               +  \n",
       "3               +  \n",
       "4               +  \n",
       "...    ...    ...  \n",
       "32875           -  \n",
       "32876           -  \n",
       "32877           -  \n",
       "32878           -  \n",
       "32879           -  \n",
       "\n",
       "[32880 rows x 6 columns]"
      ]
     },
     "execution_count": 15,
     "metadata": {},
     "output_type": "execute_result"
    }
   ],
   "source": [
    "results = []\n",
    "\n",
    "for record in tqdm(fasta_sequence):\n",
    "    name, sequence = record.id, str(record.seq)\n",
    "    for m in re.finditer(pattern_plus, sequence, re.IGNORECASE):\n",
    "      results.append([name, m.start(), m.end(), m.group(0), '', '+'])\n",
    "\n",
    "    for m in re.finditer(pattern_minus, sequence, re.IGNORECASE):\n",
    "      results.append([name, m.start(), m.end(), m.group(0), '', '-'])\n",
    "\n",
    "results = pd.DataFrame(results, columns=['scaffold', 'start', 'end', 'sequence', 'name', 'strand'])\n",
    "results"
   ]
  },
  {
   "cell_type": "code",
   "execution_count": 16,
   "metadata": {},
   "outputs": [],
   "source": [
    "results.to_csv('quadruplex.bed', index=False, header=False, sep='\\t')"
   ]
  },
  {
   "cell_type": "code",
   "execution_count": null,
   "metadata": {},
   "outputs": [],
   "source": []
  }
 ],
 "metadata": {
  "accelerator": "GPU",
  "colab": {
   "provenance": []
  },
  "kernelspec": {
   "display_name": "Python 3 (ipykernel)",
   "language": "python",
   "name": "python3"
  },
  "language_info": {
   "codemirror_mode": {
    "name": "ipython",
    "version": 3
   },
   "file_extension": ".py",
   "mimetype": "text/x-python",
   "name": "python",
   "nbconvert_exporter": "python",
   "pygments_lexer": "ipython3",
   "version": "3.10.12"
  }
 },
 "nbformat": 4,
 "nbformat_minor": 4
}
